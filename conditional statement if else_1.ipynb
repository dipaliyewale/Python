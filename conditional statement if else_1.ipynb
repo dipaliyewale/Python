{
 "cells": [
  {
   "cell_type": "code",
   "execution_count": 1,
   "id": "5fa1bb9d",
   "metadata": {},
   "outputs": [
    {
     "name": "stdout",
     "output_type": "stream",
     "text": [
      "enter your marks-27\n",
      "number is negative\n"
     ]
    }
   ],
   "source": [
    "num=int(input(\"enter your marks\"))\n",
    "if num<=0:\n",
    "    if num<0:\n",
    "        print(\"number is negative\")\n",
    "    else:\n",
    "        print(\"number is zero\")\n",
    "else:\n",
    "    print(\"number is positive\")"
   ]
  },
  {
   "cell_type": "code",
   "execution_count": 2,
   "id": "02d04b1c",
   "metadata": {},
   "outputs": [
    {
     "name": "stdout",
     "output_type": "stream",
     "text": [
      "enter your marks58\n",
      "Your grade is C\n"
     ]
    }
   ],
   "source": [
    "marks=int(input(\"enter your marks\"))\n",
    "if marks>=75:\n",
    "    print(\"Your grade is A\")\n",
    "elif marks>65 and marks<=74:\n",
    "    print(\"Your grade is B\")\n",
    "elif marks>50 and marks<=64:\n",
    "    print (\"Your grade is C\")\n",
    "else:\n",
    "    print(\"fail,try again later\")\n"
   ]
  },
  {
   "cell_type": "code",
   "execution_count": 3,
   "id": "83cec61a",
   "metadata": {},
   "outputs": [
    {
     "name": "stdout",
     "output_type": "stream",
     "text": [
      "enter your number:43\n",
      "number is greater than 20\n",
      "number is greater than also 30\n",
      "number is greater than even\n"
     ]
    }
   ],
   "source": [
    "number=int(input(\"enter your number:\"))\n",
    "if number>20:\n",
    "    print(\"number is greater than 20\")\n",
    "    if number>30:\n",
    "        print(\"number is greater than also 30\")\n",
    "        if number>40:\n",
    "            print(\"number is greater than even\")\n",
    "        else:\n",
    "            print(\"number is less than 40\")\n",
    "    else:\n",
    "        print(\"number is greater than 30 but less than 50\")\n",
    "else:\n",
    "    print(\"number is negative\")"
   ]
  },
  {
   "cell_type": "code",
   "execution_count": 4,
   "id": "f288d9cf",
   "metadata": {},
   "outputs": [
    {
     "name": "stdout",
     "output_type": "stream",
     "text": [
      "Data is incorrect\n"
     ]
    }
   ],
   "source": [
    "g=\"datascience\"\n",
    "h=\"DATAScience\"\n",
    "if g==h:\n",
    "    print(\"Data is correct\")\n",
    "else:\n",
    "    print(\"Data is incorrect\")"
   ]
  },
  {
   "cell_type": "code",
   "execution_count": 5,
   "id": "3269a78f",
   "metadata": {},
   "outputs": [
    {
     "name": "stdout",
     "output_type": "stream",
     "text": [
      "enter your password in numbers:45623\n",
      "password is correct\n"
     ]
    }
   ],
   "source": [
    "password=int(input(\"enter your password in numbers:\"))\n",
    "passwd=45623\n",
    "if password==passwd:\n",
    "    print(\"password is correct\")\n",
    "else:\n",
    "    print(\"password is incorrect\")"
   ]
  },
  {
   "cell_type": "code",
   "execution_count": 6,
   "id": "ea9c342e",
   "metadata": {},
   "outputs": [
    {
     "name": "stdout",
     "output_type": "stream",
     "text": [
      "number is even\n"
     ]
    }
   ],
   "source": [
    "a=96\n",
    "if a%2==0:\n",
    "    print(\"number is even\")\n",
    "else:\n",
    "    print(\"number is odd\")\n",
    "    "
   ]
  },
  {
   "cell_type": "code",
   "execution_count": 7,
   "id": "875e94b2",
   "metadata": {},
   "outputs": [
    {
     "name": "stdout",
     "output_type": "stream",
     "text": [
      "enter a number:87\n",
      "number is divisible\n"
     ]
    }
   ],
   "source": [
    "num1=int(input(\"enter a number:\"))\n",
    "if num1%3==0:\n",
    "   print(\"number is divisible\")\n",
    "else:\n",
    "    print(\"number is not divisible\")"
   ]
  },
  {
   "cell_type": "code",
   "execution_count": null,
   "id": "29c50a39",
   "metadata": {},
   "outputs": [],
   "source": []
  }
 ],
 "metadata": {
  "kernelspec": {
   "display_name": "Python 3 (ipykernel)",
   "language": "python",
   "name": "python3"
  },
  "language_info": {
   "codemirror_mode": {
    "name": "ipython",
    "version": 3
   },
   "file_extension": ".py",
   "mimetype": "text/x-python",
   "name": "python",
   "nbconvert_exporter": "python",
   "pygments_lexer": "ipython3",
   "version": "3.9.12"
  }
 },
 "nbformat": 4,
 "nbformat_minor": 5
}
