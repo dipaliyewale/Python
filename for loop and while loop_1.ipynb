{
 "cells": [
  {
   "cell_type": "code",
   "execution_count": 2,
   "id": "cb04fdd9",
   "metadata": {},
   "outputs": [
    {
     "data": {
      "text/plain": [
       "33"
      ]
     },
     "execution_count": 2,
     "metadata": {},
     "output_type": "execute_result"
    }
   ],
   "source": [
    "l=[11,22,33,44,55,66,77,88]\n",
    "l[2]"
   ]
  },
  {
   "cell_type": "markdown",
   "id": "e9a6e95b",
   "metadata": {},
   "source": [
    "for loops"
   ]
  },
  {
   "cell_type": "raw",
   "id": "7bb4afe6",
   "metadata": {},
   "source": [
    "for item in collections:\n",
    "    print(item)"
   ]
  },
  {
   "cell_type": "code",
   "execution_count": 3,
   "id": "36d68d5c",
   "metadata": {},
   "outputs": [
    {
     "name": "stdout",
     "output_type": "stream",
     "text": [
      "11\n",
      "22\n",
      "33\n",
      "44\n",
      "55\n",
      "66\n",
      "77\n",
      "88\n"
     ]
    }
   ],
   "source": [
    "for items in l:\n",
    "    print(items)"
   ]
  },
  {
   "cell_type": "code",
   "execution_count": 4,
   "id": "a14bc9a3",
   "metadata": {},
   "outputs": [
    {
     "name": "stdout",
     "output_type": "stream",
     "text": [
      "11  22  33  44  55  66  77  88  "
     ]
    }
   ],
   "source": [
    "for items in l:\n",
    "    print(items, end=\"  \")"
   ]
  },
  {
   "cell_type": "code",
   "execution_count": 5,
   "id": "ee152c50",
   "metadata": {},
   "outputs": [
    {
     "name": "stdout",
     "output_type": "stream",
     "text": [
      "4\n",
      "5\n",
      "6\n",
      "7\n",
      "8\n"
     ]
    }
   ],
   "source": [
    "s=\"45678\"\n",
    "for i in s:\n",
    "    print(i)"
   ]
  },
  {
   "cell_type": "code",
   "execution_count": 6,
   "id": "0096433f",
   "metadata": {},
   "outputs": [
    {
     "name": "stdout",
     "output_type": "stream",
     "text": [
      "d a t a s c i e n c e "
     ]
    }
   ],
   "source": [
    "s1=\"datascience\"\n",
    "for i in s1:\n",
    "    print(i,end=\" \")"
   ]
  },
  {
   "cell_type": "code",
   "execution_count": 7,
   "id": "987e2db5",
   "metadata": {},
   "outputs": [
    {
     "name": "stdout",
     "output_type": "stream",
     "text": [
      "11\n",
      "22\n",
      "33\n",
      "44\n"
     ]
    }
   ],
   "source": [
    "for i in l:\n",
    "    print(i)\n",
    "    if i==44:\n",
    "       break"
   ]
  },
  {
   "cell_type": "code",
   "execution_count": 8,
   "id": "78cd074e",
   "metadata": {},
   "outputs": [
    {
     "name": "stdout",
     "output_type": "stream",
     "text": [
      "11\n",
      "22\n",
      "33\n",
      "44\n",
      "55\n",
      "66\n",
      "77\n",
      "88\n"
     ]
    }
   ],
   "source": [
    "for i in l:\n",
    "    print(i)\n",
    "    if i==44:\n",
    "     continue"
   ]
  },
  {
   "cell_type": "code",
   "execution_count": 9,
   "id": "2e91c114",
   "metadata": {},
   "outputs": [
    {
     "name": "stdout",
     "output_type": "stream",
     "text": [
      "11\n",
      "22\n",
      "33\n",
      "55\n",
      "66\n",
      "77\n",
      "88\n"
     ]
    }
   ],
   "source": [
    "for i in l:\n",
    "  #  print(i)\n",
    "    if i==44:\n",
    "        \n",
    "     continue\n",
    "    print(i)"
   ]
  },
  {
   "cell_type": "code",
   "execution_count": 10,
   "id": "9e07dc81",
   "metadata": {},
   "outputs": [
    {
     "name": "stdout",
     "output_type": "stream",
     "text": [
      "11\n",
      "22\n",
      "33\n",
      "44\n",
      "55\n",
      "66\n",
      "77\n",
      "88\n"
     ]
    }
   ],
   "source": [
    "for i in l:\n",
    "    print(i)\n",
    "    if i==44:\n",
    "        \n",
    "     continue\n",
    "    #print(i)"
   ]
  },
  {
   "cell_type": "code",
   "execution_count": 11,
   "id": "4a3da6d1",
   "metadata": {},
   "outputs": [
    {
     "name": "stdout",
     "output_type": "stream",
     "text": [
      "88\n"
     ]
    }
   ],
   "source": [
    "for i in l:\n",
    "#   print(i)\n",
    "   if i==44:\n",
    "    \n",
    "    continue\n",
    "print(i)"
   ]
  },
  {
   "cell_type": "code",
   "execution_count": 12,
   "id": "c3f89533",
   "metadata": {},
   "outputs": [
    {
     "name": "stdout",
     "output_type": "stream",
     "text": [
      "44\n"
     ]
    }
   ],
   "source": [
    "for i in l:\n",
    "#   print(i)\n",
    "   if i==44:\n",
    "    print(i)\n",
    "    continue\n",
    "   "
   ]
  },
  {
   "cell_type": "code",
   "execution_count": 13,
   "id": "63e38263",
   "metadata": {},
   "outputs": [
    {
     "name": "stdout",
     "output_type": "stream",
     "text": [
      "d\n",
      "a\n",
      "t\n",
      "a\n",
      "s\n"
     ]
    }
   ],
   "source": [
    "s=\"datascience\"\n",
    "for i in s:\n",
    "    print(i)\n",
    "    if i==\"s\":\n",
    "       break"
   ]
  },
  {
   "cell_type": "code",
   "execution_count": 16,
   "id": "d1f7ab45",
   "metadata": {},
   "outputs": [],
   "source": [
    "Dictionary={\"name\":\"abc\",\"a\":1,\"b\":2,\"c\":\"3\"}"
   ]
  },
  {
   "cell_type": "code",
   "execution_count": 17,
   "id": "f975fd1b",
   "metadata": {},
   "outputs": [
    {
     "name": "stdout",
     "output_type": "stream",
     "text": [
      "name\n",
      "a\n",
      "b\n",
      "c\n"
     ]
    }
   ],
   "source": [
    "Dictionary={\"name\":\"abc\",\"a\":1,\"b\":2,\"c\":3}\n",
    "for i in Dictionary:\n",
    "    print(i)"
   ]
  },
  {
   "cell_type": "code",
   "execution_count": 18,
   "id": "1cf32723",
   "metadata": {},
   "outputs": [
    {
     "name": "stdout",
     "output_type": "stream",
     "text": [
      "name = abc\n",
      "a = 1\n",
      "b = 2\n",
      "c = 3\n"
     ]
    }
   ],
   "source": [
    "for i in Dictionary:\n",
    "    print(i,\"=\",Dictionary[i])"
   ]
  },
  {
   "cell_type": "code",
   "execution_count": 19,
   "id": "577eb8b3",
   "metadata": {},
   "outputs": [
    {
     "name": "stdout",
     "output_type": "stream",
     "text": [
      "NH\n",
      "BV\n",
      "UYT\n"
     ]
    }
   ],
   "source": [
    "l=[45,\"nh\",56,67,\"bv\",78,89,\"uyt\",90]\n",
    "for i in l:\n",
    "    if type(i)==str:\n",
    "        print(i.upper())"
   ]
  },
  {
   "cell_type": "code",
   "execution_count": 20,
   "id": "2d839840",
   "metadata": {},
   "outputs": [
    {
     "name": "stdout",
     "output_type": "stream",
     "text": [
      "1\n",
      "4\n",
      "7\n",
      "10\n",
      "13\n",
      "16\n"
     ]
    }
   ],
   "source": [
    "for i in range(1,18,3):\n",
    "     print(i)"
   ]
  },
  {
   "cell_type": "code",
   "execution_count": 22,
   "id": "83f836af",
   "metadata": {},
   "outputs": [
    {
     "name": "stdout",
     "output_type": "stream",
     "text": [
      "enter your value:dipali\n",
      "0 : d\n",
      "1 : i\n",
      "2 : p\n",
      "3 : a\n",
      "4 : l\n",
      "5 : i\n"
     ]
    }
   ],
   "source": [
    "s=(input(\"enter your value:\"))\n",
    "for g in range(len(s)):\n",
    "    print(g,\":\",s[g])        \n",
    "            "
   ]
  },
  {
   "cell_type": "code",
   "execution_count": 23,
   "id": "777c18cf",
   "metadata": {},
   "outputs": [
    {
     "name": "stdout",
     "output_type": "stream",
     "text": [
      "enter your value:dipali\n",
      "0 : D\n",
      "1 : I\n",
      "2 : P\n",
      "3 : A\n",
      "4 : L\n",
      "5 : I\n"
     ]
    }
   ],
   "source": [
    "s=(input(\"enter your value:\"))\n",
    "for g in range(len(s)):\n",
    "    print(g,\":\",s[g].upper())        \n",
    "            \n",
    "        "
   ]
  },
  {
   "cell_type": "code",
   "execution_count": 24,
   "id": "3f9fa08d",
   "metadata": {},
   "outputs": [
    {
     "name": "stdout",
     "output_type": "stream",
     "text": [
      "enter your value:23\n",
      "25852016738884976640000\n"
     ]
    }
   ],
   "source": [
    "fact=int(input(\"enter your value:\"))\n",
    "a=1\n",
    "for i in  range (1,fact+1):\n",
    "    a=a*i\n",
    "print(a)"
   ]
  },
  {
   "cell_type": "markdown",
   "id": "82c2d9a7",
   "metadata": {},
   "source": [
    "while loop"
   ]
  },
  {
   "cell_type": "code",
   "execution_count": 25,
   "id": "dcc68054",
   "metadata": {},
   "outputs": [
    {
     "name": "stdout",
     "output_type": "stream",
     "text": [
      "0\n",
      "1\n",
      "2\n",
      "3\n",
      "4\n",
      "5\n",
      "6\n",
      "7\n",
      "8\n"
     ]
    }
   ],
   "source": [
    "i=0\n",
    "while i<9:\n",
    "    print(i)\n",
    "    i+=1"
   ]
  },
  {
   "cell_type": "code",
   "execution_count": 26,
   "id": "09241023",
   "metadata": {},
   "outputs": [
    {
     "name": "stdout",
     "output_type": "stream",
     "text": [
      "7\n",
      "14\n",
      "21\n",
      "28\n",
      "35\n",
      "42\n",
      "49\n",
      "56\n",
      "63\n",
      "70\n"
     ]
    }
   ],
   "source": [
    "a=7\n",
    "i=1\n",
    "while i<11:\n",
    "     print(a*i)\n",
    "     i+=1"
   ]
  },
  {
   "cell_type": "code",
   "execution_count": 27,
   "id": "ad4ebbcc",
   "metadata": {},
   "outputs": [
    {
     "name": "stdout",
     "output_type": "stream",
     "text": [
      "121\n",
      "144\n",
      "169\n",
      "196\n",
      "225\n",
      "256\n",
      "289\n",
      "324\n",
      "361\n",
      "400\n"
     ]
    }
   ],
   "source": [
    "i=11\n",
    "while i<21:\n",
    "     print(i**2)\n",
    "     i+=1\n",
    "    "
   ]
  },
  {
   "cell_type": "code",
   "execution_count": 28,
   "id": "02f3fd4c",
   "metadata": {},
   "outputs": [
    {
     "name": "stdout",
     "output_type": "stream",
     "text": [
      "4 x 1 = 4\n",
      "4 x 2 = 8\n",
      "4 x 3 = 12\n",
      "4 x 4 = 16\n",
      "4 x 5 = 20\n",
      "4 x 6 = 24\n",
      "4 x 7 = 28\n",
      "4 x 8 = 32\n",
      "4 x 9 = 36\n",
      "4 x 10 = 40\n"
     ]
    }
   ],
   "source": [
    "a=4\n",
    "i=1\n",
    "while i<11:\n",
    "    print(a,\"x\",i,\"=\",a*i)\n",
    "    i+=1"
   ]
  },
  {
   "cell_type": "code",
   "execution_count": 29,
   "id": "5f5863ea",
   "metadata": {},
   "outputs": [
    {
     "name": "stdout",
     "output_type": "stream",
     "text": [
      "720\n"
     ]
    }
   ],
   "source": [
    "fact=6\n",
    "a=1\n",
    "while fact>0:\n",
    "        a=a*fact\n",
    "        fact-=1\n",
    "print(a)"
   ]
  },
  {
   "cell_type": "code",
   "execution_count": 30,
   "id": "ab374511",
   "metadata": {},
   "outputs": [
    {
     "name": "stdout",
     "output_type": "stream",
     "text": [
      "enter your value:6\n",
      "720\n"
     ]
    }
   ],
   "source": [
    "fact=int(input(\"enter your value:\"))\n",
    "a=1\n",
    "while fact>0:\n",
    "    a=a*fact\n",
    "    fact-=1\n",
    "print(a)"
   ]
  },
  {
   "cell_type": "code",
   "execution_count": 31,
   "id": "f8da46c0",
   "metadata": {},
   "outputs": [
    {
     "name": "stdout",
     "output_type": "stream",
     "text": [
      "6\n",
      "12\n",
      "18\n",
      "24\n",
      "30\n",
      "36\n",
      "42\n",
      "48\n",
      "54\n",
      "60\n"
     ]
    }
   ],
   "source": [
    "a=6\n",
    "i=1\n",
    "while i<11:\n",
    "    print (i*a)\n",
    "    i+=1"
   ]
  },
  {
   "cell_type": "code",
   "execution_count": 32,
   "id": "9f680e5e",
   "metadata": {},
   "outputs": [
    {
     "name": "stdout",
     "output_type": "stream",
     "text": [
      "enter a factorial:6\n",
      "720\n"
     ]
    }
   ],
   "source": [
    "facts=int(input(\"enter a factorial:\"))\n",
    "a=1\n",
    "while facts>0:\n",
    "    a=a*facts\n",
    "    facts-=1\n",
    "print(a)"
   ]
  },
  {
   "cell_type": "code",
   "execution_count": null,
   "id": "9b72dca2",
   "metadata": {},
   "outputs": [],
   "source": []
  }
 ],
 "metadata": {
  "kernelspec": {
   "display_name": "Python 3 (ipykernel)",
   "language": "python",
   "name": "python3"
  },
  "language_info": {
   "codemirror_mode": {
    "name": "ipython",
    "version": 3
   },
   "file_extension": ".py",
   "mimetype": "text/x-python",
   "name": "python",
   "nbconvert_exporter": "python",
   "pygments_lexer": "ipython3",
   "version": "3.9.12"
  }
 },
 "nbformat": 4,
 "nbformat_minor": 5
}
