{
 "cells": [
  {
   "cell_type": "code",
   "execution_count": 3,
   "id": "5174ed11",
   "metadata": {},
   "outputs": [],
   "source": [
    "from random import*"
   ]
  },
  {
   "cell_type": "markdown",
   "id": "69be3c96",
   "metadata": {},
   "source": [
    "Random"
   ]
  },
  {
   "cell_type": "code",
   "execution_count": null,
   "id": "cc650db5",
   "metadata": {},
   "outputs": [],
   "source": [
    "Random=it will always float number"
   ]
  },
  {
   "cell_type": "code",
   "execution_count": 5,
   "id": "f31a5489",
   "metadata": {},
   "outputs": [
    {
     "data": {
      "text/plain": [
       "0.7102445940678944"
      ]
     },
     "execution_count": 5,
     "metadata": {},
     "output_type": "execute_result"
    }
   ],
   "source": [
    "random()"
   ]
  },
  {
   "cell_type": "raw",
   "id": "f9818539",
   "metadata": {},
   "source": [
    "if we write code in if else,for loop use print option"
   ]
  },
  {
   "cell_type": "code",
   "execution_count": 7,
   "id": "57c7ddcc",
   "metadata": {},
   "outputs": [
    {
     "name": "stdout",
     "output_type": "stream",
     "text": [
      "0.35458112476069803\n"
     ]
    }
   ],
   "source": [
    "print(random())"
   ]
  },
  {
   "cell_type": "code",
   "execution_count": 10,
   "id": "e1e4cace",
   "metadata": {},
   "outputs": [
    {
     "name": "stdout",
     "output_type": "stream",
     "text": [
      "0.07772334297517314\n",
      "0.32054573968419653\n",
      "0.8231136384777951\n",
      "0.5882557763607628\n",
      "0.33731468733894276\n"
     ]
    }
   ],
   "source": [
    "for i in range (5):\n",
    "    print(random())"
   ]
  },
  {
   "cell_type": "markdown",
   "id": "7e491996",
   "metadata": {},
   "source": [
    "Randint"
   ]
  },
  {
   "cell_type": "code",
   "execution_count": 11,
   "id": "6d52f035",
   "metadata": {},
   "outputs": [
    {
     "data": {
      "text/plain": [
       "18"
      ]
     },
     "execution_count": 11,
     "metadata": {},
     "output_type": "execute_result"
    }
   ],
   "source": [
    "randint(1,20)"
   ]
  },
  {
   "cell_type": "code",
   "execution_count": 12,
   "id": "ea8e759a",
   "metadata": {},
   "outputs": [
    {
     "name": "stdout",
     "output_type": "stream",
     "text": [
      "7\n",
      "21\n",
      "11\n",
      "3\n",
      "14\n",
      "16\n",
      "12\n",
      "25\n",
      "3\n"
     ]
    }
   ],
   "source": [
    "for i in range(9):\n",
    "    print(randint(1,30))"
   ]
  },
  {
   "cell_type": "code",
   "execution_count": 14,
   "id": "39cc3f6b",
   "metadata": {},
   "outputs": [
    {
     "data": {
      "text/plain": [
       "5"
      ]
     },
     "execution_count": 14,
     "metadata": {},
     "output_type": "execute_result"
    }
   ],
   "source": [
    "randint(1,50)"
   ]
  },
  {
   "cell_type": "code",
   "execution_count": 15,
   "id": "47d59d35",
   "metadata": {},
   "outputs": [
    {
     "name": "stdout",
     "output_type": "stream",
     "text": [
      "11\n",
      "14\n",
      "16\n",
      "11\n"
     ]
    }
   ],
   "source": [
    "for i in range(4):\n",
    "    print(randint(1,36))"
   ]
  },
  {
   "cell_type": "markdown",
   "id": "e4b97c18",
   "metadata": {},
   "source": [
    "randrange"
   ]
  },
  {
   "cell_type": "code",
   "execution_count": 16,
   "id": "c0f94196",
   "metadata": {},
   "outputs": [
    {
     "data": {
      "text/plain": [
       "8"
      ]
     },
     "execution_count": 16,
     "metadata": {},
     "output_type": "execute_result"
    }
   ],
   "source": [
    "randrange(1,63)"
   ]
  },
  {
   "cell_type": "code",
   "execution_count": 17,
   "id": "d77bf218",
   "metadata": {},
   "outputs": [
    {
     "data": {
      "text/plain": [
       "37"
      ]
     },
     "execution_count": 17,
     "metadata": {},
     "output_type": "execute_result"
    }
   ],
   "source": [
    "randrange(1,80,6)"
   ]
  },
  {
   "cell_type": "code",
   "execution_count": 18,
   "id": "6c20ec04",
   "metadata": {},
   "outputs": [
    {
     "name": "stdout",
     "output_type": "stream",
     "text": [
      "16\n",
      "52\n",
      "43\n",
      "50\n",
      "30\n",
      "18\n",
      "5\n",
      "7\n"
     ]
    }
   ],
   "source": [
    "for i in range(8):\n",
    "    print(randrange(1,60))"
   ]
  },
  {
   "cell_type": "markdown",
   "id": "7dff3381",
   "metadata": {},
   "source": [
    "Choice"
   ]
  },
  {
   "cell_type": "code",
   "execution_count": 19,
   "id": "f8301be1",
   "metadata": {},
   "outputs": [],
   "source": [
    "l=[10,12,14,16,18,20]\n"
   ]
  },
  {
   "cell_type": "code",
   "execution_count": 20,
   "id": "45890483",
   "metadata": {},
   "outputs": [
    {
     "data": {
      "text/plain": [
       "18"
      ]
     },
     "execution_count": 20,
     "metadata": {},
     "output_type": "execute_result"
    }
   ],
   "source": [
    "choice(l)"
   ]
  },
  {
   "cell_type": "code",
   "execution_count": null,
   "id": "92795075",
   "metadata": {},
   "outputs": [],
   "source": []
  }
 ],
 "metadata": {
  "kernelspec": {
   "display_name": "Python 3 (ipykernel)",
   "language": "python",
   "name": "python3"
  },
  "language_info": {
   "codemirror_mode": {
    "name": "ipython",
    "version": 3
   },
   "file_extension": ".py",
   "mimetype": "text/x-python",
   "name": "python",
   "nbconvert_exporter": "python",
   "pygments_lexer": "ipython3",
   "version": "3.9.12"
  }
 },
 "nbformat": 4,
 "nbformat_minor": 5
}
