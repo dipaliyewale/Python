{
 "cells": [
  {
   "cell_type": "markdown",
   "id": "f3156bb1",
   "metadata": {},
   "source": [
    "1)Create a list of squred integers from a given list of integrs."
   ]
  },
  {
   "cell_type": "code",
   "execution_count": 1,
   "id": "6cb56c5f",
   "metadata": {},
   "outputs": [],
   "source": [
    "l=[1,2,3,4,5,6,7,8,9,10]"
   ]
  },
  {
   "cell_type": "code",
   "execution_count": 2,
   "id": "fe2f1784",
   "metadata": {},
   "outputs": [],
   "source": [
    "try:\n",
    "    def squre_integer(number):\n",
    "        abc=[]\n",
    "        for i in number:\n",
    "            abc.append(i**2)\n",
    "        return abc\n",
    "except exception as e:\n",
    "       print (e)"
   ]
  },
  {
   "cell_type": "code",
   "execution_count": 3,
   "id": "df38e61f",
   "metadata": {},
   "outputs": [
    {
     "data": {
      "text/plain": [
       "[1, 4, 9, 16, 25, 36, 49, 64, 81, 100]"
      ]
     },
     "execution_count": 3,
     "metadata": {},
     "output_type": "execute_result"
    }
   ],
   "source": [
    "squre_integer(l)"
   ]
  },
  {
   "cell_type": "markdown",
   "id": "3ce500c7",
   "metadata": {},
   "source": [
    "2)Create a list of even numbers from a given list of integrs."
   ]
  },
  {
   "cell_type": "code",
   "execution_count": 4,
   "id": "b40e06a9",
   "metadata": {},
   "outputs": [],
   "source": [
    "X=[2,9,4,7,3,6,12,18,42,56,53]"
   ]
  },
  {
   "cell_type": "code",
   "execution_count": 5,
   "id": "55632171",
   "metadata": {},
   "outputs": [],
   "source": [
    "try:\n",
    "    def even_no(numbers):\n",
    "        xyz=[]\n",
    "        for i in numbers:\n",
    "            if i%2==0:\n",
    "                xyz.append(i)\n",
    "        return xyz\n",
    "except exception as e:\n",
    "            print(e)"
   ]
  },
  {
   "cell_type": "code",
   "execution_count": 6,
   "id": "4b8fc0d0",
   "metadata": {},
   "outputs": [
    {
     "data": {
      "text/plain": [
       "[2, 4, 6, 12, 18, 42, 56]"
      ]
     },
     "execution_count": 6,
     "metadata": {},
     "output_type": "execute_result"
    }
   ],
   "source": [
    "even_no(X)"
   ]
  },
  {
   "cell_type": "markdown",
   "id": "92f9fbca",
   "metadata": {},
   "source": [
    "3)create a list of all words in a sentence"
   ]
  },
  {
   "cell_type": "code",
   "execution_count": 7,
   "id": "7679f151",
   "metadata": {},
   "outputs": [],
   "source": [
    "S=\"Datascience is a subset of AI\""
   ]
  },
  {
   "cell_type": "code",
   "execution_count": 8,
   "id": "70d24113",
   "metadata": {},
   "outputs": [
    {
     "name": "stdout",
     "output_type": "stream",
     "text": [
      "['Datascience', 'is', 'a', 'subset', 'of', 'AI']\n"
     ]
    }
   ],
   "source": [
    "try:\n",
    "    S=\"Datascience is a subset of AI\"\n",
    "    list_1=S.split()\n",
    "    print(list_1)\n",
    "except Exception as e:\n",
    "    print(e)\n",
    "    "
   ]
  },
  {
   "cell_type": "markdown",
   "id": "55f05d8a",
   "metadata": {},
   "source": [
    "4)create a list of all the postive numbers from a given list of integers"
   ]
  },
  {
   "cell_type": "code",
   "execution_count": 10,
   "id": "a891546b",
   "metadata": {},
   "outputs": [],
   "source": [
    "A=[5,-3,6,8,-47,9,-10,7,-12]"
   ]
  },
  {
   "cell_type": "code",
   "execution_count": 11,
   "id": "4f06af2c",
   "metadata": {},
   "outputs": [],
   "source": [
    "try:\n",
    "    def positive_no(number):\n",
    "        abc=[]\n",
    "        for i in number:\n",
    "            if i>0:\n",
    "                abc.append(i)\n",
    "        return abc\n",
    "except exception as e:\n",
    "         print (e)"
   ]
  },
  {
   "cell_type": "code",
   "execution_count": 12,
   "id": "c6cc4089",
   "metadata": {},
   "outputs": [
    {
     "data": {
      "text/plain": [
       "[5, 6, 8, 9, 7]"
      ]
     },
     "execution_count": 12,
     "metadata": {},
     "output_type": "execute_result"
    }
   ],
   "source": [
    "positive_no(A)"
   ]
  },
  {
   "cell_type": "markdown",
   "id": "002b5cbc",
   "metadata": {},
   "source": [
    "5)find the sum of all the elements in a given array of integers"
   ]
  },
  {
   "cell_type": "code",
   "execution_count": 13,
   "id": "cfe6cbcf",
   "metadata": {},
   "outputs": [
    {
     "name": "stdout",
     "output_type": "stream",
     "text": [
      "Requirement already satisfied: numpy in c:\\users\\admin\\anaconda3\\lib\\site-packages (1.21.5)\n"
     ]
    }
   ],
   "source": [
    "!pip install numpy "
   ]
  },
  {
   "cell_type": "code",
   "execution_count": 14,
   "id": "38c436a6",
   "metadata": {},
   "outputs": [],
   "source": [
    "import numpy as np"
   ]
  },
  {
   "cell_type": "code",
   "execution_count": 15,
   "id": "0a6d2f71",
   "metadata": {},
   "outputs": [],
   "source": [
    "l=[1,2,4,7,5,3,8,2,6]"
   ]
  },
  {
   "cell_type": "code",
   "execution_count": 16,
   "id": "80c2bf1e",
   "metadata": {},
   "outputs": [
    {
     "data": {
      "text/plain": [
       "array([1, 2, 4, 7, 5, 3, 8, 2, 6])"
      ]
     },
     "execution_count": 16,
     "metadata": {},
     "output_type": "execute_result"
    }
   ],
   "source": [
    "a=np.array(l)\n",
    "a"
   ]
  },
  {
   "cell_type": "code",
   "execution_count": 17,
   "id": "46927b09",
   "metadata": {},
   "outputs": [],
   "source": [
    "try:\n",
    "    def sum_array(numbers):\n",
    "        total=0\n",
    "        for i in numbers:\n",
    "            total+=i\n",
    "        print(total)\n",
    "except exception as e:\n",
    "         print (e)\n",
    "            \n",
    "            "
   ]
  },
  {
   "cell_type": "code",
   "execution_count": 18,
   "id": "fd41ae8a",
   "metadata": {},
   "outputs": [
    {
     "name": "stdout",
     "output_type": "stream",
     "text": [
      "38\n"
     ]
    }
   ],
   "source": [
    "sum_array(a)"
   ]
  },
  {
   "cell_type": "markdown",
   "id": "09597ac2",
   "metadata": {},
   "source": [
    "6)Create a string of all the unique characters in given string"
   ]
  },
  {
   "cell_type": "code",
   "execution_count": 19,
   "id": "af88e10a",
   "metadata": {},
   "outputs": [],
   "source": [
    "R=\"datascience\""
   ]
  },
  {
   "cell_type": "code",
   "execution_count": 20,
   "id": "4231d5b4",
   "metadata": {},
   "outputs": [
    {
     "name": "stdout",
     "output_type": "stream",
     "text": [
      "['d', 'a', 't', 'a', 's', 'c', 'i', 'e', 'n', 'c', 'e']\n"
     ]
    }
   ],
   "source": [
    "try: \n",
    "    unique_characters=list(R)\n",
    "    print( unique_characters)\n",
    "except Exception as e:\n",
    "    print(e)    "
   ]
  },
  {
   "cell_type": "markdown",
   "id": "b1b2309f",
   "metadata": {},
   "source": [
    "7) write a python program to count the number 4 in a given list"
   ]
  },
  {
   "cell_type": "code",
   "execution_count": 21,
   "id": "85a473d0",
   "metadata": {},
   "outputs": [],
   "source": [
    "List=[1,4,6,8,4,2,3,4]"
   ]
  },
  {
   "cell_type": "code",
   "execution_count": 22,
   "id": "6596da79",
   "metadata": {},
   "outputs": [],
   "source": [
    "try:\n",
    "    def count_no(number):\n",
    "        count=number.count(4)\n",
    "        print(count)\n",
    "except Exception as e:\n",
    "    print(e)"
   ]
  },
  {
   "cell_type": "code",
   "execution_count": 23,
   "id": "1de386ca",
   "metadata": {},
   "outputs": [
    {
     "name": "stdout",
     "output_type": "stream",
     "text": [
      "3\n"
     ]
    }
   ],
   "source": [
    "count_no(List)"
   ]
  },
  {
   "cell_type": "markdown",
   "id": "6eac00ce",
   "metadata": {},
   "source": [
    "8)Write a python program that will accept the base and height of triangle and compute its area"
   ]
  },
  {
   "cell_type": "markdown",
   "id": "46efc70d",
   "metadata": {},
   "source": [
    "Base=8 m Height=12 m"
   ]
  },
  {
   "cell_type": "code",
   "execution_count": 24,
   "id": "0ade0e20",
   "metadata": {},
   "outputs": [],
   "source": [
    "try:\n",
    "    def tri_Area(Base,Height):\n",
    "        triangle_Area=0.5*(Base*Height)\n",
    "        print(triangle_Area)\n",
    "except Exception as e:\n",
    "    print(e)\n"
   ]
  },
  {
   "cell_type": "code",
   "execution_count": 25,
   "id": "224ac643",
   "metadata": {},
   "outputs": [
    {
     "name": "stdout",
     "output_type": "stream",
     "text": [
      "48.0\n"
     ]
    }
   ],
   "source": [
    "tri_Area(8,12)"
   ]
  },
  {
   "cell_type": "markdown",
   "id": "27a00e96",
   "metadata": {},
   "source": [
    "9)Write a python program to calculate sum of digits of a number."
   ]
  },
  {
   "cell_type": "code",
   "execution_count": 26,
   "id": "f9afb3e2",
   "metadata": {},
   "outputs": [],
   "source": [
    "Number=562314"
   ]
  },
  {
   "cell_type": "code",
   "execution_count": 27,
   "id": "6a88136b",
   "metadata": {},
   "outputs": [
    {
     "name": "stdout",
     "output_type": "stream",
     "text": [
      "Enter Number: 562314\n",
      "21\n"
     ]
    }
   ],
   "source": [
    "try: \n",
    "    num = input(\"Enter Number: \")\n",
    "    sum = 0\n",
    "    for i in num:\n",
    "        sum = sum + int(i)\n",
    "    print(sum)\n",
    "except Exception as e:\n",
    "    print(e)"
   ]
  },
  {
   "cell_type": "code",
   "execution_count": null,
   "id": "3d424f17",
   "metadata": {},
   "outputs": [],
   "source": []
  }
 ],
 "metadata": {
  "kernelspec": {
   "display_name": "Python 3 (ipykernel)",
   "language": "python",
   "name": "python3"
  },
  "language_info": {
   "codemirror_mode": {
    "name": "ipython",
    "version": 3
   },
   "file_extension": ".py",
   "mimetype": "text/x-python",
   "name": "python",
   "nbconvert_exporter": "python",
   "pygments_lexer": "ipython3",
   "version": "3.9.12"
  }
 },
 "nbformat": 4,
 "nbformat_minor": 5
}
