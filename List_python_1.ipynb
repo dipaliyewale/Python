{
 "cells": [
  {
   "cell_type": "code",
   "execution_count": 19,
   "id": "2e706ecc",
   "metadata": {},
   "outputs": [],
   "source": [
    "List=[3,7,9,10,\"True\",\"and\",5,25,32,7.2]"
   ]
  },
  {
   "cell_type": "markdown",
   "id": "fce460f1",
   "metadata": {},
   "source": [
    "1)This will print list"
   ]
  },
  {
   "cell_type": "code",
   "execution_count": 20,
   "id": "5eb431f0",
   "metadata": {},
   "outputs": [
    {
     "name": "stdout",
     "output_type": "stream",
     "text": [
      "print list: [3, 7, 9, 10, 'True', 'and', 5, 25, 32, 7.2]\n"
     ]
    }
   ],
   "source": [
    "try:\n",
    "    def listt(L):\n",
    "        try:\n",
    "            print(\"print list:\",List)\n",
    "        except Exception as e:\n",
    "            print(e)\n",
    "except Exception as e:\n",
    "    print(e)\n",
    "    \n",
    "    \n",
    "listt(List)"
   ]
  },
  {
   "cell_type": "markdown",
   "id": "78464529",
   "metadata": {},
   "source": [
    "# Datatype"
   ]
  },
  {
   "cell_type": "markdown",
   "id": "95e6caac",
   "metadata": {},
   "source": [
    " 2)This will print Data type of variable"
   ]
  },
  {
   "cell_type": "code",
   "execution_count": 21,
   "id": "7af5d416",
   "metadata": {},
   "outputs": [
    {
     "name": "stdout",
     "output_type": "stream",
     "text": [
      "Data_type: <class 'list'>\n"
     ]
    }
   ],
   "source": [
    "try:\n",
    "    def listt(L):\n",
    "        try:\n",
    "            print(\"Data_type:\",type(L))\n",
    "        except Exception as e:\n",
    "            print(e)\n",
    "except Exception as e:\n",
    "    print(e)\n",
    "                  \n",
    "                  \n",
    "listt(List)                 \n",
    "    "
   ]
  },
  {
   "cell_type": "markdown",
   "id": "a33451e0",
   "metadata": {},
   "source": [
    "# Length"
   ]
  },
  {
   "cell_type": "markdown",
   "id": "3bf46bd8",
   "metadata": {},
   "source": [
    "3)This method gives length of List"
   ]
  },
  {
   "cell_type": "code",
   "execution_count": 22,
   "id": "b2ccc87f",
   "metadata": {},
   "outputs": [
    {
     "name": "stdout",
     "output_type": "stream",
     "text": [
      "Length of list: 10\n"
     ]
    }
   ],
   "source": [
    "try:\n",
    "    def listt(L):\n",
    "        try:\n",
    "            print(\"Length of list:\",len(List))\n",
    "        except Exception as e:\n",
    "            print(e)\n",
    "except Exception as e:\n",
    "    print(e)\n",
    "    \n",
    "    \n",
    "listt(List)"
   ]
  },
  {
   "cell_type": "markdown",
   "id": "6ae52442",
   "metadata": {},
   "source": [
    "# Replace"
   ]
  },
  {
   "cell_type": "markdown",
   "id": "0b1fd1c0",
   "metadata": {},
   "source": [
    "4)This method replace element of list with another "
   ]
  },
  {
   "cell_type": "code",
   "execution_count": 23,
   "id": "d6ea7e23",
   "metadata": {},
   "outputs": [
    {
     "name": "stdout",
     "output_type": "stream",
     "text": [
      "after replacing index of list: [3, 7, 42, 10, 'True', 'and', 5, 25, 32, 7.2]\n"
     ]
    }
   ],
   "source": [
    "try:\n",
    "    def listt(L):\n",
    "        try:\n",
    "            L[2]=42\n",
    "            print(\"after replacing index of list:\",L)\n",
    "        except Exception as e:\n",
    "            print(e)\n",
    "except Exception as e:\n",
    "    print(e)\n",
    "    \n",
    "    \n",
    "listt(List)"
   ]
  },
  {
   "cell_type": "markdown",
   "id": "cb5e6c9b",
   "metadata": {},
   "source": [
    "# Insert"
   ]
  },
  {
   "cell_type": "markdown",
   "id": "3679fa2b",
   "metadata": {},
   "source": [
    "5)This method insert element into the list"
   ]
  },
  {
   "cell_type": "code",
   "execution_count": 24,
   "id": "b5dcbc6a",
   "metadata": {},
   "outputs": [
    {
     "name": "stdout",
     "output_type": "stream",
     "text": [
      "insert number 62: [3, 7, 42, 62, 10, 'True', 'and', 5, 25, 32, 7.2]\n"
     ]
    }
   ],
   "source": [
    "try:\n",
    "    def Insert(L):\n",
    "        try:\n",
    "            L.insert(3,62)\n",
    "            print(\"insert number 62:\",L)\n",
    "        except Exception as e:\n",
    "            print(e)\n",
    "except Exception as e:\n",
    "    print(e)\n",
    "        \n",
    "Insert(List)"
   ]
  },
  {
   "cell_type": "markdown",
   "id": "9307dac6",
   "metadata": {},
   "source": [
    "# Append"
   ]
  },
  {
   "cell_type": "markdown",
   "id": "c9f258ed",
   "metadata": {},
   "source": [
    "6)This method will append element into list"
   ]
  },
  {
   "cell_type": "code",
   "execution_count": 25,
   "id": "25282470",
   "metadata": {},
   "outputs": [
    {
     "name": "stdout",
     "output_type": "stream",
     "text": [
      "List after appending: [3, 7, 42, 62, 10, 'True', 'and', 5, 25, 32, 7.2, [14, 80, 63, 'Science']]\n"
     ]
    }
   ],
   "source": [
    "try:\n",
    "    S=[14,80,63,\"Science\"]\n",
    "    def Append(L):\n",
    "        try:\n",
    "            L.append(S)\n",
    "            print (\"List after appending:\",L)\n",
    "        except Exception as e:\n",
    "            print(e)\n",
    "except Exception as e:\n",
    "        print(e)\n",
    "        \n",
    "Append(List)\n",
    "                "
   ]
  },
  {
   "cell_type": "markdown",
   "id": "7df16367",
   "metadata": {},
   "source": [
    "# Extend"
   ]
  },
  {
   "cell_type": "markdown",
   "id": "4321aec5",
   "metadata": {},
   "source": [
    "7)This method add the list "
   ]
  },
  {
   "cell_type": "code",
   "execution_count": 26,
   "id": "dfffb804",
   "metadata": {},
   "outputs": [
    {
     "name": "stdout",
     "output_type": "stream",
     "text": [
      "List ater extend: [3, 7, 9, 10, 'True', 'and', 5, 25, 32, 7.2, 14, 80, 63, 'Science']\n"
     ]
    }
   ],
   "source": [
    "try:\n",
    "    S=[14,80,63,\"Science\"]\n",
    "    List=[3,7,9,10,\"True\",\"and\",5,25,32,7.2]\n",
    "    def Extend(L):\n",
    "        try:\n",
    "            L.extend(S)\n",
    "            print (\"List ater extend:\",L)\n",
    "        except Exception as e:\n",
    "            print(e)\n",
    "except Exception as e:\n",
    "        print(e)\n",
    "        \n",
    "Extend(List)"
   ]
  },
  {
   "cell_type": "markdown",
   "id": "ee523909",
   "metadata": {},
   "source": [
    "# Pop"
   ]
  },
  {
   "cell_type": "markdown",
   "id": "5e5bdf41",
   "metadata": {},
   "source": [
    "7)This method removes last element"
   ]
  },
  {
   "cell_type": "code",
   "execution_count": 27,
   "id": "f5cd26e3",
   "metadata": {},
   "outputs": [
    {
     "name": "stdout",
     "output_type": "stream",
     "text": [
      "Removes Last Element: [3, 7, 9, 10, 'True', 'and', 5, 25, 32, 7.2, 14, 80, 63]\n"
     ]
    }
   ],
   "source": [
    "try:\n",
    "    def Pop(L):\n",
    "        try:\n",
    "            L.pop()\n",
    "            print(\"Removes Last Element:\",L)\n",
    "        except Exception as e:\n",
    "            print(e)\n",
    "except Exception as e:\n",
    "            print(e)\n",
    "        \n",
    "Pop(List)"
   ]
  },
  {
   "cell_type": "markdown",
   "id": "8441573b",
   "metadata": {},
   "source": [
    "# Remove"
   ]
  },
  {
   "cell_type": "markdown",
   "id": "7ab8f62f",
   "metadata": {},
   "source": [
    "8)This method removes element"
   ]
  },
  {
   "cell_type": "code",
   "execution_count": 28,
   "id": "5d9e5324",
   "metadata": {},
   "outputs": [
    {
     "name": "stdout",
     "output_type": "stream",
     "text": [
      "List after Removes Element: [3, 7, 9, 'True', 'and', 5, 25, 32, 7.2, 14, 80, 63]\n"
     ]
    }
   ],
   "source": [
    "try:\n",
    "    def Remove(L):\n",
    "        try:\n",
    "            L.remove(10)\n",
    "            print(\"List after Removes Element:\",L)\n",
    "        except Exception as e:\n",
    "            print(e)\n",
    "except Exception as e:\n",
    "            print(e)\n",
    "        \n",
    "Remove(List)"
   ]
  },
  {
   "cell_type": "markdown",
   "id": "a2845baa",
   "metadata": {},
   "source": [
    "# Delete"
   ]
  },
  {
   "cell_type": "markdown",
   "id": "83232932",
   "metadata": {},
   "source": [
    "9)This method Delete the element"
   ]
  },
  {
   "cell_type": "code",
   "execution_count": 29,
   "id": "2152485e",
   "metadata": {},
   "outputs": [
    {
     "name": "stdout",
     "output_type": "stream",
     "text": [
      "List after delete Element: [3, 7, 9, 'True', 'and', 5, 25, 7.2, 14, 80, 63]\n"
     ]
    }
   ],
   "source": [
    "try:\n",
    "    def Delete(L):\n",
    "        try:\n",
    "            del L [7]\n",
    "            print(\"List after delete Element:\",L)\n",
    "        except Exception as e:\n",
    "            print(e)\n",
    "except Exception as e:\n",
    "            print(e)\n",
    "        \n",
    "Delete(List)"
   ]
  },
  {
   "cell_type": "markdown",
   "id": "ec6f615e",
   "metadata": {},
   "source": [
    "# Reverse"
   ]
  },
  {
   "cell_type": "markdown",
   "id": "80b9150d",
   "metadata": {},
   "source": [
    "10)This method gives list after reversing"
   ]
  },
  {
   "cell_type": "code",
   "execution_count": 30,
   "id": "09ee1523",
   "metadata": {},
   "outputs": [
    {
     "name": "stdout",
     "output_type": "stream",
     "text": [
      "List after reversing Element: [63, 80, 14, 7.2, 25, 5, 'and', 'True', 9, 7, 3]\n"
     ]
    }
   ],
   "source": [
    "try:\n",
    "    def Reverse(L):\n",
    "        try:\n",
    "            L.reverse()\n",
    "            print(\"List after reversing Element:\",L)\n",
    "        except Exception as e:\n",
    "            print(e)\n",
    "except Exception as e:\n",
    "            print(e)\n",
    "        \n",
    "Reverse(List)"
   ]
  },
  {
   "cell_type": "markdown",
   "id": "9cacfaa4",
   "metadata": {},
   "source": [
    "# Sort"
   ]
  },
  {
   "cell_type": "markdown",
   "id": "705f1053",
   "metadata": {},
   "source": [
    "11)This method gives list after sorting"
   ]
  },
  {
   "cell_type": "code",
   "execution_count": 31,
   "id": "790484c1",
   "metadata": {},
   "outputs": [
    {
     "name": "stdout",
     "output_type": "stream",
     "text": [
      "List after sorting Element: [32, 50, 62, 85]\n"
     ]
    }
   ],
   "source": [
    "try:\n",
    "    List1=[85,32,50,62]\n",
    "    def Sort(L):\n",
    "        try:\n",
    "            L.sort()\n",
    "            print(\"List after sorting Element:\",L)\n",
    "        except Exception as e:\n",
    "            print(e)\n",
    "except Exception as e:\n",
    "            print(e)\n",
    "        \n",
    "Sort(List1)"
   ]
  },
  {
   "cell_type": "code",
   "execution_count": 32,
   "id": "c0671238",
   "metadata": {},
   "outputs": [],
   "source": [
    "P=[[1,2,3],[11,22,33],[23,56,89]]"
   ]
  },
  {
   "cell_type": "code",
   "execution_count": 33,
   "id": "64957c55",
   "metadata": {},
   "outputs": [
    {
     "data": {
      "text/plain": [
       "3"
      ]
     },
     "execution_count": 33,
     "metadata": {},
     "output_type": "execute_result"
    }
   ],
   "source": [
    "len(P)"
   ]
  },
  {
   "cell_type": "code",
   "execution_count": 34,
   "id": "0f0cdd11",
   "metadata": {},
   "outputs": [
    {
     "data": {
      "text/plain": [
       "[11, 22, 33]"
      ]
     },
     "execution_count": 34,
     "metadata": {},
     "output_type": "execute_result"
    }
   ],
   "source": [
    "P[1]"
   ]
  },
  {
   "cell_type": "code",
   "execution_count": 35,
   "id": "962ad9ff",
   "metadata": {},
   "outputs": [
    {
     "data": {
      "text/plain": [
       "22"
      ]
     },
     "execution_count": 35,
     "metadata": {},
     "output_type": "execute_result"
    }
   ],
   "source": [
    "P[1][1]"
   ]
  },
  {
   "cell_type": "code",
   "execution_count": null,
   "id": "f9d71c41",
   "metadata": {},
   "outputs": [],
   "source": []
  }
 ],
 "metadata": {
  "kernelspec": {
   "display_name": "Python 3 (ipykernel)",
   "language": "python",
   "name": "python3"
  },
  "language_info": {
   "codemirror_mode": {
    "name": "ipython",
    "version": 3
   },
   "file_extension": ".py",
   "mimetype": "text/x-python",
   "name": "python",
   "nbconvert_exporter": "python",
   "pygments_lexer": "ipython3",
   "version": "3.9.12"
  }
 },
 "nbformat": 4,
 "nbformat_minor": 5
}
