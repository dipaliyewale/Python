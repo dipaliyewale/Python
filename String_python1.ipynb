{
 "cells": [
  {
   "cell_type": "markdown",
   "id": "4e77e776",
   "metadata": {},
   "source": [
    "1)This method print the sentence of given string"
   ]
  },
  {
   "cell_type": "markdown",
   "id": "fbd3e2bf",
   "metadata": {},
   "source": []
  },
  {
   "cell_type": "code",
   "execution_count": 2,
   "id": "ee3a5551",
   "metadata": {},
   "outputs": [
    {
     "name": "stdout",
     "output_type": "stream",
     "text": [
      "This print the sentence: I am learning python Data science\n"
     ]
    }
   ],
   "source": [
    "try:\n",
    "    Sentence=\"I am learning python Data science\"\n",
    "    def variable(name):\n",
    "        try:\n",
    "            print(\"This print the sentence:\",name)\n",
    "        except Exception as e:\n",
    "            print(e)\n",
    "except Exception as e:\n",
    "        print(e)\n",
    "        \n",
    "variable(Sentence)"
   ]
  },
  {
   "cell_type": "markdown",
   "id": "3f856e75",
   "metadata": {},
   "source": [
    "# 1)Type"
   ]
  },
  {
   "cell_type": "markdown",
   "id": "f2d193b3",
   "metadata": {},
   "source": [
    "2)This method gives data type of variable"
   ]
  },
  {
   "cell_type": "code",
   "execution_count": 1,
   "id": "07bf9bb4",
   "metadata": {},
   "outputs": [
    {
     "name": "stdout",
     "output_type": "stream",
     "text": [
      "data type: <class 'str'>\n"
     ]
    }
   ],
   "source": [
    "try:\n",
    "    sentence=\"I am learning python Data science\"\n",
    "    def typee(name):\n",
    "        \"This function gives data type of sentence\"\n",
    "        try:\n",
    "            print(\"data type:\",type(name))\n",
    "        except Exception as e:\n",
    "            print(e)\n",
    "except Exception as e:\n",
    "        print(e)\n",
    "        \n",
    "        \n",
    "typee(sentence)"
   ]
  },
  {
   "cell_type": "markdown",
   "id": "f3393b9c",
   "metadata": {},
   "source": [
    "# 2)Index"
   ]
  },
  {
   "cell_type": "markdown",
   "id": "f414b5e7",
   "metadata": {},
   "source": [
    "3)This method gives index of sentence"
   ]
  },
  {
   "cell_type": "code",
   "execution_count": 5,
   "id": "f6d0dff5",
   "metadata": {},
   "outputs": [
    {
     "name": "stdout",
     "output_type": "stream",
     "text": [
      "index of learning in sentence: 5\n"
     ]
    }
   ],
   "source": [
    "try:\n",
    "    sentence=\"I am learning python Data science\"\n",
    "    def Find(word):\n",
    "        \"This function find the index of word of sentence\"\n",
    "        try:\n",
    "            print(\"index of learning in sentence:\",word.find(\"learning\"))\n",
    "        except Exception as e:\n",
    "            print(e)\n",
    "except Exception as e:\n",
    "            print(e)\n",
    "        \n",
    "Find(sentence)"
   ]
  },
  {
   "cell_type": "markdown",
   "id": "789ee846",
   "metadata": {},
   "source": [
    "# 3)Count"
   ]
  },
  {
   "cell_type": "markdown",
   "id": "495235cb",
   "metadata": {},
   "source": [
    "4)This method counts the letter in given sentence"
   ]
  },
  {
   "cell_type": "code",
   "execution_count": 9,
   "id": "18459da0",
   "metadata": {},
   "outputs": [
    {
     "name": "stdout",
     "output_type": "stream",
     "text": [
      "count the letter i in sentence: 2\n"
     ]
    }
   ],
   "source": [
    "try:\n",
    "    Sentence=\"I am learning python Data science\"\n",
    "    def countt(word):\n",
    "        \"This function count the number of letter in the sentence\"\n",
    "        try:\n",
    "            print(\"count the letter i in sentence:\",word.count(\"i\"))\n",
    "        except Exception as e:\n",
    "            print(e)\n",
    "except Exception as e:\n",
    "            print(e)\n",
    "        \n",
    "countt(sentence)"
   ]
  },
  {
   "cell_type": "markdown",
   "id": "60fcf312",
   "metadata": {},
   "source": [
    "# 4)split"
   ]
  },
  {
   "cell_type": "markdown",
   "id": "c530349e",
   "metadata": {},
   "source": [
    "5)This function split the words into list "
   ]
  },
  {
   "cell_type": "code",
   "execution_count": 2,
   "id": "96e311b6",
   "metadata": {},
   "outputs": [
    {
     "name": "stdout",
     "output_type": "stream",
     "text": [
      "splitting of sen1 into words: ['java', 'html', 'python', 'java', 'html', 'python', 'java', 'html', 'python']\n"
     ]
    }
   ],
   "source": [
    "sen1=\"java html python java html python java html python\"\n",
    "try:\n",
    "    def splitt(word):\n",
    "        \"This function the split the words\"\n",
    "        try:\n",
    "            print(\"splitting of sen1 into words:\",word.split(\" \"))\n",
    "        except Exception as e:\n",
    "             print(e)\n",
    "except Exception as e:\n",
    "             print(e)\n",
    "        \n",
    "splitt(sen1)       "
   ]
  },
  {
   "cell_type": "markdown",
   "id": "7c2926cd",
   "metadata": {},
   "source": [
    "# 5)Replace"
   ]
  },
  {
   "cell_type": "markdown",
   "id": "0853a872",
   "metadata": {},
   "source": [
    "6)This method replace one word to another word"
   ]
  },
  {
   "cell_type": "code",
   "execution_count": 11,
   "id": "813126e1",
   "metadata": {},
   "outputs": [
    {
     "name": "stdout",
     "output_type": "stream",
     "text": [
      "java sql python java sql python java sql python\n"
     ]
    }
   ],
   "source": [
    "try:\n",
    "    sen1=\"java html python java html python java html python\"\n",
    "    def replaced(word):\n",
    "        try:\n",
    "            print(word.replace(\"html\",\"sql\"))\n",
    "        except Exception as e:\n",
    "            print(e)\n",
    "except Exception as e:\n",
    "            print(e)\n",
    "        \n",
    "replaced(sen1)\n"
   ]
  },
  {
   "cell_type": "markdown",
   "id": "feb5d0d5",
   "metadata": {},
   "source": [
    "# 6)Lowercase"
   ]
  },
  {
   "cell_type": "markdown",
   "id": "da6be213",
   "metadata": {},
   "source": [
    "7)This method convert the sentence in lowercase "
   ]
  },
  {
   "cell_type": "code",
   "execution_count": 12,
   "id": "d65a5729",
   "metadata": {},
   "outputs": [
    {
     "name": "stdout",
     "output_type": "stream",
     "text": [
      "lowercase the sentence: i am learning python data science\n"
     ]
    }
   ],
   "source": [
    "try:\n",
    "    sentence=\"I am learning python Data science\"\n",
    "    def loower(name):\n",
    "        \"This function lowercase the string\"\n",
    "        try:\n",
    "            print(\"lowercase the sentence:\",name.lower())\n",
    "        except Exception as e:\n",
    "            print(e)\n",
    "except Exception as e:\n",
    "            print(e)\n",
    "        \n",
    "loower(sentence)   "
   ]
  },
  {
   "cell_type": "markdown",
   "id": "7a22d70b",
   "metadata": {},
   "source": [
    "# 7)Uppercase"
   ]
  },
  {
   "cell_type": "markdown",
   "id": "0cdb7d6f",
   "metadata": {},
   "source": [
    "8)This method convert the sentence into uppercase "
   ]
  },
  {
   "cell_type": "code",
   "execution_count": 13,
   "id": "76ed6827",
   "metadata": {},
   "outputs": [
    {
     "name": "stdout",
     "output_type": "stream",
     "text": [
      "Uppercase of sentence: I AM LEARNING PYTHON DATA SCIENCE\n"
     ]
    }
   ],
   "source": [
    "try:\n",
    "    sentence=\"I am learning python Data science\"\n",
    "    def uppper(name):\n",
    "        \"This function Uppercase the sentence\"\n",
    "        try:\n",
    "            print(\"Uppercase of sentence:\",name.upper())\n",
    "        except Exception as e:\n",
    "            print(e)\n",
    "except Exception as e:\n",
    "        print(e)\n",
    "        \n",
    "uppper(sentence)        "
   ]
  },
  {
   "cell_type": "markdown",
   "id": "0e5caeca",
   "metadata": {},
   "source": [
    "# 8)Swapcase"
   ]
  },
  {
   "cell_type": "markdown",
   "id": "f8aa6493",
   "metadata": {},
   "source": [
    "9)This method  convert the sentence into swapcase "
   ]
  },
  {
   "cell_type": "code",
   "execution_count": 14,
   "id": "2f7c0d37",
   "metadata": {},
   "outputs": [
    {
     "name": "stdout",
     "output_type": "stream",
     "text": [
      "Swapcase: i AM LEARNING PYTHON dATA SCIENCE\n"
     ]
    }
   ],
   "source": [
    "try:\n",
    "    sentence=\"I am learning python Data science\"\n",
    "    def swappcase(name):\n",
    "        \"This function swapcase the string of sentence\"\n",
    "        try:\n",
    "            print(\"Swapcase:\",name.swapcase())\n",
    "        except Exception as e:\n",
    "            print(e)\n",
    "except Exception as e:\n",
    "            print(e)\n",
    "        \n",
    "        \n",
    "swappcase(sentence)"
   ]
  },
  {
   "cell_type": "markdown",
   "id": "2611d618",
   "metadata": {},
   "source": [
    "# 9)Centre"
   ]
  },
  {
   "cell_type": "markdown",
   "id": "acc0a9d4",
   "metadata": {},
   "source": [
    "10)This method center the given Word"
   ]
  },
  {
   "cell_type": "code",
   "execution_count": 15,
   "id": "f6a5333f",
   "metadata": {},
   "outputs": [
    {
     "name": "stdout",
     "output_type": "stream",
     "text": [
      "centred the string:                    javascript           \n"
     ]
    }
   ],
   "source": [
    "try:\n",
    "    Word=\"         javascript\"\n",
    "    def centerd(name):\n",
    "        \"This function centered the word \"\n",
    "        try:\n",
    "            print(\"centred the string:\",name.center(40))\n",
    "        except Exception as e:\n",
    "            print(e)\n",
    "except Exception as e:\n",
    "        print(e)\n",
    "        \n",
    "centerd(Word)"
   ]
  },
  {
   "cell_type": "markdown",
   "id": "e9ffb900",
   "metadata": {},
   "source": [
    "# 10)Lstrip"
   ]
  },
  {
   "cell_type": "markdown",
   "id": "ea6f65be",
   "metadata": {},
   "source": [
    "11)This method removes left space"
   ]
  },
  {
   "cell_type": "code",
   "execution_count": 16,
   "id": "3411e108",
   "metadata": {},
   "outputs": [
    {
     "name": "stdout",
     "output_type": "stream",
     "text": [
      "javascript\n"
     ]
    }
   ],
   "source": [
    "try:\n",
    "    Word=\"         javascript\"\n",
    "    def lstripp(name):\n",
    "        \"This function removes left space of string\"\n",
    "        try:\n",
    "            print(name.lstrip())\n",
    "        except Exception as e:\n",
    "            print(e)\n",
    "except Exception as e:\n",
    "    print(e)\n",
    "    \n",
    "    \n",
    "lstripp(Word)    \n",
    "    \n",
    "    "
   ]
  },
  {
   "cell_type": "markdown",
   "id": "503b0eb1",
   "metadata": {},
   "source": [
    "# 11)SStrip"
   ]
  },
  {
   "cell_type": "markdown",
   "id": "2c48384f",
   "metadata": {},
   "source": [
    "12)This method removes left and right space of word"
   ]
  },
  {
   "cell_type": "code",
   "execution_count": 17,
   "id": "ae764004",
   "metadata": {},
   "outputs": [
    {
     "name": "stdout",
     "output_type": "stream",
     "text": [
      "html\n"
     ]
    }
   ],
   "source": [
    "try:\n",
    "    word=\"      html      \"\n",
    "    def sstrip(name):\n",
    "        \"This function removes left and right space of word\"\n",
    "        try:\n",
    "            print(name.strip())\n",
    "        except Exception as e:\n",
    "            print(e) \n",
    "except Exception as e:\n",
    "            print(e)\n",
    "        \n",
    "sstrip(word) "
   ]
  },
  {
   "cell_type": "markdown",
   "id": "0313fbe0",
   "metadata": {},
   "source": [
    "# 12)Islower"
   ]
  },
  {
   "cell_type": "markdown",
   "id": "8a1af6c8",
   "metadata": {},
   "source": [
    "13)This method explains the word is lowercase or not"
   ]
  },
  {
   "cell_type": "code",
   "execution_count": 18,
   "id": "5640c816",
   "metadata": {},
   "outputs": [
    {
     "name": "stdout",
     "output_type": "stream",
     "text": [
      "True\n"
     ]
    }
   ],
   "source": [
    "try:\n",
    "    Word=\"         javascript\"\n",
    "    def iislower(name):\n",
    "        \"This function gives word is in lowercase or not\"\n",
    "        try:\n",
    "            print(name.islower())\n",
    "        except Exception as e:\n",
    "            print (e)\n",
    "except Exception as e:\n",
    "        print (e)\n",
    "        \n",
    "iislower(Word) "
   ]
  },
  {
   "cell_type": "markdown",
   "id": "ec2a4de5",
   "metadata": {},
   "source": [
    "# 13)Isupper"
   ]
  },
  {
   "cell_type": "markdown",
   "id": "4187faef",
   "metadata": {},
   "source": [
    "14)This method explains the word is in uppercase or not"
   ]
  },
  {
   "cell_type": "code",
   "execution_count": 19,
   "id": "91cb41b8",
   "metadata": {},
   "outputs": [
    {
     "name": "stdout",
     "output_type": "stream",
     "text": [
      "False\n"
     ]
    }
   ],
   "source": [
    "try:\n",
    "    Word=\"         javascript\"\n",
    "    def isupperr(name):\n",
    "        \"This function gives string is in uppercase or not\"\n",
    "        try:\n",
    "            print(name.isupper())\n",
    "        except Exception as e:\n",
    "            print (e)\n",
    "except Exception as e:\n",
    "            print (e)\n",
    "        \n",
    "        \n",
    "isupperr(Word)"
   ]
  },
  {
   "cell_type": "markdown",
   "id": "fec9806c",
   "metadata": {},
   "source": [
    "# 14)Title"
   ]
  },
  {
   "cell_type": "code",
   "execution_count": 1,
   "id": "487925b3",
   "metadata": {},
   "outputs": [
    {
     "name": "stdout",
     "output_type": "stream",
     "text": [
      "Buliding\n"
     ]
    }
   ],
   "source": [
    "try:\n",
    "    word=\"buliding\"\n",
    "    def titled(name):\n",
    "        try:\n",
    "            print(name.title())\n",
    "        except Exception as e:\n",
    "            print (e)\n",
    "except Exception as e:\n",
    "            print (e)\n",
    "            \n",
    "titled(word)   \n",
    "    "
   ]
  },
  {
   "cell_type": "markdown",
   "id": "c95fb876",
   "metadata": {},
   "source": [
    "# 15)Istitle"
   ]
  },
  {
   "cell_type": "code",
   "execution_count": 21,
   "id": "4bd47cf0",
   "metadata": {},
   "outputs": [
    {
     "name": "stdout",
     "output_type": "stream",
     "text": [
      "False\n"
     ]
    }
   ],
   "source": [
    "try:\n",
    "    word=\"buliding\"\n",
    "    def istitled(name):\n",
    "        try:\n",
    "            print(name.istitle())\n",
    "        except Exception as e:\n",
    "            print (e)\n",
    "except Exception as e:\n",
    "            print (e) \n",
    "        \n",
    "istitled(word)\n",
    "    "
   ]
  },
  {
   "cell_type": "markdown",
   "id": "e67df0cf",
   "metadata": {},
   "source": [
    "# 16)Capitalize"
   ]
  },
  {
   "cell_type": "code",
   "execution_count": 22,
   "id": "6893bfd7",
   "metadata": {},
   "outputs": [
    {
     "name": "stdout",
     "output_type": "stream",
     "text": [
      "Python\n"
     ]
    }
   ],
   "source": [
    "try:\n",
    "    s5=\"python\"\n",
    "    def capital(name):\n",
    "        try:\n",
    "            print(name.capitalize())\n",
    "        except Exception as e:\n",
    "            print(e)    \n",
    "except Exception as e:\n",
    "        print(e)\n",
    "        \n",
    "capital(s5) "
   ]
  },
  {
   "cell_type": "markdown",
   "id": "bd9fa214",
   "metadata": {},
   "source": [
    "# 17)Startswith"
   ]
  },
  {
   "cell_type": "code",
   "execution_count": 23,
   "id": "049a4ada",
   "metadata": {},
   "outputs": [
    {
     "name": "stdout",
     "output_type": "stream",
     "text": [
      "False\n"
     ]
    }
   ],
   "source": [
    "try:\n",
    "    word=\"python\"\n",
    "    def starswitth(name):\n",
    "        try:\n",
    "            print(name.startswith(\"s\"))\n",
    "        except Exception as e:\n",
    "            print(e)\n",
    "except Exception as e:\n",
    "            print(e)\n",
    "        \n",
    "starswitth(s5)\n",
    "                "
   ]
  },
  {
   "cell_type": "markdown",
   "id": "593bafd0",
   "metadata": {},
   "source": [
    "# 18)Endswith"
   ]
  },
  {
   "cell_type": "code",
   "execution_count": 24,
   "id": "ecbd2b2a",
   "metadata": {},
   "outputs": [
    {
     "name": "stdout",
     "output_type": "stream",
     "text": [
      "True\n"
     ]
    }
   ],
   "source": [
    "try:\n",
    "    word=\"python\"\n",
    "    def eendswith(name):\n",
    "        try:\n",
    "            print(name.endswith(\"n\"))\n",
    "        except Exception as e:\n",
    "            print(e)\n",
    "except Exception as e:\n",
    "    print(e)\n",
    "    \n",
    "eendswith(word)\n",
    "            "
   ]
  },
  {
   "cell_type": "code",
   "execution_count": null,
   "id": "a3c662ac",
   "metadata": {},
   "outputs": [],
   "source": []
  }
 ],
 "metadata": {
  "kernelspec": {
   "display_name": "Python 3 (ipykernel)",
   "language": "python",
   "name": "python3"
  },
  "language_info": {
   "codemirror_mode": {
    "name": "ipython",
    "version": 3
   },
   "file_extension": ".py",
   "mimetype": "text/x-python",
   "name": "python",
   "nbconvert_exporter": "python",
   "pygments_lexer": "ipython3",
   "version": "3.9.12"
  }
 },
 "nbformat": 4,
 "nbformat_minor": 5
}
