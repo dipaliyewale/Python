{
 "cells": [
  {
   "cell_type": "code",
   "execution_count": 1,
   "id": "5dea1e21",
   "metadata": {},
   "outputs": [],
   "source": [
    "tupl=(80,10,20,40,50,\"Dipali\",30,\"It\")"
   ]
  },
  {
   "cell_type": "code",
   "execution_count": 2,
   "id": "a2534413",
   "metadata": {},
   "outputs": [
    {
     "name": "stdout",
     "output_type": "stream",
     "text": [
      "Tuple: (80, 10, 20, 40, 50, 'Dipali', 30, 'It')\n"
     ]
    }
   ],
   "source": [
    "tupl=(80,10,20,40,50,\"Dipali\",30,\"It\")\n",
    "def Variable(t):\n",
    "    \"This will print the Variable\"\n",
    "    print(\"Tuple:\",t)\n",
    "    \n",
    "Variable(tupl)"
   ]
  },
  {
   "cell_type": "markdown",
   "id": "25ee33f6",
   "metadata": {},
   "source": [
    "# 1)Data type"
   ]
  },
  {
   "cell_type": "code",
   "execution_count": 3,
   "id": "7c2ff188",
   "metadata": {},
   "outputs": [
    {
     "name": "stdout",
     "output_type": "stream",
     "text": [
      "Data type: <class 'tuple'>\n"
     ]
    }
   ],
   "source": [
    "tupl=(80,10,20,40,50,\"Dipali\",30,\"It\")\n",
    "def typee(t):\n",
    "    \"This method gives data type of the variable\"\n",
    "    print(\"Data type:\",type(t))\n",
    "    \n",
    "typee(tupl)"
   ]
  },
  {
   "cell_type": "markdown",
   "id": "eaa2105d",
   "metadata": {},
   "source": [
    "# 2)length"
   ]
  },
  {
   "cell_type": "code",
   "execution_count": 4,
   "id": "1f5fec57",
   "metadata": {},
   "outputs": [
    {
     "name": "stdout",
     "output_type": "stream",
     "text": [
      "length of tuple: 8\n"
     ]
    }
   ],
   "source": [
    "tupl=(80,10,20,40,50,\"Dipali\",30,\"It\")\n",
    "def lengthh(t):\n",
    "    \"This method gives length  of the variable\"\n",
    "    print(\"length of tuple:\",len(t))\n",
    "    \n",
    "lengthh(tupl)"
   ]
  },
  {
   "cell_type": "code",
   "execution_count": 5,
   "id": "f40ec599",
   "metadata": {},
   "outputs": [
    {
     "name": "stdout",
     "output_type": "stream",
     "text": [
      "slicing operation: (10, 20, 40)\n"
     ]
    }
   ],
   "source": [
    "tupl=(80,10,20,40,50,\"Dipali\",30,\"It\")\n",
    "def Slicing_operation(t):\n",
    "    print(\"slicing operation:\",t[1:4])\n",
    "    \n",
    "Slicing_operation(tupl)"
   ]
  },
  {
   "cell_type": "code",
   "execution_count": 6,
   "id": "cf5dea28",
   "metadata": {},
   "outputs": [],
   "source": [
    "#In tuple we cannot replace one element\n",
    "#In tuple we cannot use add,remove,replace Methods"
   ]
  },
  {
   "cell_type": "code",
   "execution_count": 7,
   "id": "3562c7b6",
   "metadata": {},
   "outputs": [],
   "source": [
    "#We only use index count options in tuple"
   ]
  },
  {
   "cell_type": "markdown",
   "id": "bbb2c7cd",
   "metadata": {},
   "source": [
    "# 3)Index"
   ]
  },
  {
   "cell_type": "code",
   "execution_count": 8,
   "id": "ef0cff13",
   "metadata": {},
   "outputs": [
    {
     "name": "stdout",
     "output_type": "stream",
     "text": [
      "index of element: 3\n"
     ]
    }
   ],
   "source": [
    "tupl=(80,10,20,40,50,\"Dipali\",30,\"It\")\n",
    "def index(t):\n",
    "    t.index(40)\n",
    "    print(\"index of element:\", t.index(40))\n",
    "    \n",
    "index(tupl)"
   ]
  },
  {
   "cell_type": "markdown",
   "id": "2ac72ac5",
   "metadata": {},
   "source": [
    "# 4)count"
   ]
  },
  {
   "cell_type": "code",
   "execution_count": 9,
   "id": "c1f785b7",
   "metadata": {},
   "outputs": [
    {
     "name": "stdout",
     "output_type": "stream",
     "text": [
      "count of element: 1\n"
     ]
    }
   ],
   "source": [
    "tupl=(80,10,20,40,50,\"Dipali\",30,\"It\")\n",
    "def count(t):\n",
    "    t.count(40)\n",
    "    print(\"count of element:\", t.count(40))\n",
    "    \n",
    "count(tupl)"
   ]
  },
  {
   "cell_type": "markdown",
   "id": "ced1e403",
   "metadata": {},
   "source": [
    "# 5)sorted"
   ]
  },
  {
   "cell_type": "code",
   "execution_count": 10,
   "id": "c2175fc5",
   "metadata": {},
   "outputs": [
    {
     "name": "stdout",
     "output_type": "stream",
     "text": [
      "sorting of tuple: [5, 25, 50, 75, 100, 150]\n"
     ]
    }
   ],
   "source": [
    "TTupl=(75,25,50,100,5,150)\n",
    "def sort(t):\n",
    "    print(\"sorting of tuple:\", sorted(t))\n",
    "    \n",
    "sort(TTupl)"
   ]
  },
  {
   "cell_type": "markdown",
   "id": "9c926a0d",
   "metadata": {},
   "source": [
    "# 6)Min"
   ]
  },
  {
   "cell_type": "code",
   "execution_count": 11,
   "id": "e568ae94",
   "metadata": {},
   "outputs": [
    {
     "name": "stdout",
     "output_type": "stream",
     "text": [
      "min_value: 5\n"
     ]
    }
   ],
   "source": [
    "TTupl=(75,25,50,100,5,150)\n",
    "def Minimum_Value(t):\n",
    "    print(\"min_value:\", min(t))\n",
    "    \n",
    "Minimum_Value(TTupl)"
   ]
  },
  {
   "cell_type": "markdown",
   "id": "6cd990b0",
   "metadata": {},
   "source": [
    "# 7)Max"
   ]
  },
  {
   "cell_type": "code",
   "execution_count": 12,
   "id": "709c180e",
   "metadata": {},
   "outputs": [
    {
     "name": "stdout",
     "output_type": "stream",
     "text": [
      "max_value: 150\n"
     ]
    }
   ],
   "source": [
    "TTupl=(75,25,50,100,5,150)\n",
    "def Maximum_Value(t):\n",
    "    print(\"max_value:\", max(t))\n",
    "    \n",
    "Maximum_Value(TTupl)"
   ]
  },
  {
   "cell_type": "code",
   "execution_count": null,
   "id": "4e11b5e2",
   "metadata": {},
   "outputs": [],
   "source": []
  }
 ],
 "metadata": {
  "kernelspec": {
   "display_name": "Python 3 (ipykernel)",
   "language": "python",
   "name": "python3"
  },
  "language_info": {
   "codemirror_mode": {
    "name": "ipython",
    "version": 3
   },
   "file_extension": ".py",
   "mimetype": "text/x-python",
   "name": "python",
   "nbconvert_exporter": "python",
   "pygments_lexer": "ipython3",
   "version": "3.9.12"
  }
 },
 "nbformat": 4,
 "nbformat_minor": 5
}
