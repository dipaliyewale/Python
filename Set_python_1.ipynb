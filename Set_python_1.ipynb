{
 "cells": [
  {
   "cell_type": "code",
   "execution_count": 1,
   "id": "273695ea",
   "metadata": {},
   "outputs": [
    {
     "name": "stdout",
     "output_type": "stream",
     "text": [
      "print: {5, 70, 40, 10, 50, 20, 84, 60, 30}\n"
     ]
    }
   ],
   "source": [
    "sets={10,50,20,60,30,70,40,5,84}\n",
    "def sset(s):\n",
    "    \"This will print the sets\"\n",
    "    print(\"print:\",s)\n",
    "            \n",
    "sset(sets)"
   ]
  },
  {
   "cell_type": "markdown",
   "id": "5bb42e40",
   "metadata": {},
   "source": [
    "# 1)Type"
   ]
  },
  {
   "cell_type": "code",
   "execution_count": 2,
   "id": "de8d4b8c",
   "metadata": {},
   "outputs": [
    {
     "name": "stdout",
     "output_type": "stream",
     "text": [
      "Data type: <class 'set'>\n"
     ]
    }
   ],
   "source": [
    "def typee(s):\n",
    "    \"This method will gives data type the Data type\"\n",
    "    print(\"Data type:\",type(s))\n",
    "            \n",
    "typee(sets)"
   ]
  },
  {
   "cell_type": "markdown",
   "id": "abbc2b12",
   "metadata": {},
   "source": [
    "# 2)length"
   ]
  },
  {
   "cell_type": "code",
   "execution_count": 3,
   "id": "fa9ce5a9",
   "metadata": {},
   "outputs": [
    {
     "name": "stdout",
     "output_type": "stream",
     "text": [
      "Length of set: 9\n"
     ]
    }
   ],
   "source": [
    "def length(s):\n",
    "    \"This method gives the length of sets\"\n",
    "    print(\"Length of set:\",len(s))\n",
    "            \n",
    "length(sets)"
   ]
  },
  {
   "cell_type": "markdown",
   "id": "a2fee87c",
   "metadata": {},
   "source": [
    "# 3)add"
   ]
  },
  {
   "cell_type": "code",
   "execution_count": 4,
   "id": "312683f3",
   "metadata": {},
   "outputs": [
    {
     "name": "stdout",
     "output_type": "stream",
     "text": [
      "adding element into set: {5, 70, 40, 10, 50, 20, 84, 53, 60, 30}\n"
     ]
    }
   ],
   "source": [
    "def addd(s):\n",
    "    \"This will add the element into sets\"\n",
    "    s.add(53)\n",
    "    print(\"adding element into set:\",s)\n",
    "            \n",
    "addd(sets)"
   ]
  },
  {
   "cell_type": "code",
   "execution_count": 5,
   "id": "27108142",
   "metadata": {},
   "outputs": [
    {
     "name": "stdout",
     "output_type": "stream",
     "text": [
      "unhashable type: 'list'\n"
     ]
    }
   ],
   "source": [
    "s1=[1,3,5]\n",
    "def adddd(s):\n",
    "    try:\n",
    "        s.add(s1)\n",
    "        print(s)\n",
    "    except Exception as e:\n",
    "        print(e)\n",
    "        \n",
    "adddd(sets)"
   ]
  },
  {
   "cell_type": "code",
   "execution_count": 6,
   "id": "8dbacebc",
   "metadata": {},
   "outputs": [
    {
     "name": "stdout",
     "output_type": "stream",
     "text": [
      "{(5, 10, 15), 5, 70, 40, 10, 50, 20, 84, 53, 60, 30}\n"
     ]
    }
   ],
   "source": [
    "s1=(5,10,15)\n",
    "def adddd(s):\n",
    "    try:\n",
    "        s.add(s1)\n",
    "        print(s)\n",
    "    except Exception as e:\n",
    "        print(e)\n",
    "        \n",
    "adddd(sets)"
   ]
  },
  {
   "cell_type": "code",
   "execution_count": 7,
   "id": "70792154",
   "metadata": {},
   "outputs": [
    {
     "name": "stdout",
     "output_type": "stream",
     "text": [
      "unhashable type: 'set'\n"
     ]
    }
   ],
   "source": [
    "s1={2,7,21}\n",
    "def ad(s):\n",
    "    try:\n",
    "        s.add(s1)\n",
    "        print(s)\n",
    "    except Exception as e:\n",
    "        print(\"error:\",e)\n",
    "        \n",
    "adddd(sets)"
   ]
  },
  {
   "cell_type": "markdown",
   "id": "a9f431ad",
   "metadata": {},
   "source": [
    "# 4)update"
   ]
  },
  {
   "cell_type": "code",
   "execution_count": 8,
   "id": "a9f6cb77",
   "metadata": {},
   "outputs": [
    {
     "name": "stdout",
     "output_type": "stream",
     "text": [
      "updating element into set: {(5, 10, 15), 4, 5, 70, 40, 8, 10, 12, 50, 20, 84, 53, 60, 30}\n"
     ]
    }
   ],
   "source": [
    "s2=[4,8,12]\n",
    "def uupdate(s):\n",
    "    \"This method will update the list into sets\"\n",
    "    s.update(s2)\n",
    "    print(\"updating element into set:\",s)\n",
    "            \n",
    "uupdate(sets)"
   ]
  },
  {
   "cell_type": "markdown",
   "id": "d6297e0f",
   "metadata": {},
   "source": [
    "# 5)Remove"
   ]
  },
  {
   "cell_type": "code",
   "execution_count": 9,
   "id": "4918fb85",
   "metadata": {},
   "outputs": [
    {
     "name": "stdout",
     "output_type": "stream",
     "text": [
      "after removing element set: {(5, 10, 15), 4, 5, 70, 40, 8, 10, 12, 50, 20, 53, 60, 30}\n"
     ]
    }
   ],
   "source": [
    "s2=[4,8,12]\n",
    "def rremove(s):\n",
    "    \"This method will remove of element the sets\"\n",
    "    s.remove(84)\n",
    "    print(\"after removing element set:\",s)\n",
    "            \n",
    "rremove(sets)"
   ]
  },
  {
   "cell_type": "markdown",
   "id": "3648e6e0",
   "metadata": {},
   "source": [
    "# 6)Discard"
   ]
  },
  {
   "cell_type": "code",
   "execution_count": 10,
   "id": "78d452c2",
   "metadata": {},
   "outputs": [
    {
     "name": "stdout",
     "output_type": "stream",
     "text": [
      "after removing element using discard, set: {(5, 10, 15), 4, 5, 70, 8, 10, 12, 50, 20, 53, 60, 30}\n"
     ]
    }
   ],
   "source": [
    "s2=[4,8,12]\n",
    "def ddiscard(s):\n",
    "    \"This method will remove of element the sets using discard\"\n",
    "    s.discard(40)\n",
    "    print(\"after removing element using discard, set:\",s)\n",
    "            \n",
    "ddiscard(sets)"
   ]
  },
  {
   "cell_type": "markdown",
   "id": "18c1bb50",
   "metadata": {},
   "source": [
    "# 7)Clear"
   ]
  },
  {
   "cell_type": "code",
   "execution_count": 11,
   "id": "440e4ed8",
   "metadata": {},
   "outputs": [
    {
     "name": "stdout",
     "output_type": "stream",
     "text": [
      "after removing all element using clear, set: set()\n"
     ]
    }
   ],
   "source": [
    "def clearr(s):\n",
    "    \"This will remove all element of set\"\n",
    "    s.clear()\n",
    "    print(\"after removing all element using clear, set:\",s)\n",
    "            \n",
    "clearr(sets)"
   ]
  },
  {
   "cell_type": "markdown",
   "id": "82610b83",
   "metadata": {},
   "source": [
    "# 8)copy"
   ]
  },
  {
   "cell_type": "code",
   "execution_count": 12,
   "id": "a79a2183",
   "metadata": {},
   "outputs": [
    {
     "name": "stdout",
     "output_type": "stream",
     "text": [
      "after copying set: {5, 70, 40, 10, 50, 20, 84, 60, 30}\n"
     ]
    }
   ],
   "source": [
    "sets={10,50,20,60,30,70,40,5,84}\n",
    "def copyy(s):\n",
    "    \"This will remove all element of set\"\n",
    "    s1=s.copy()\n",
    "    print(\"after copying set:\",s1)\n",
    "            \n",
    "copyy(sets)"
   ]
  },
  {
   "cell_type": "markdown",
   "id": "6acf6076",
   "metadata": {},
   "source": [
    "# 9)Set to List"
   ]
  },
  {
   "cell_type": "code",
   "execution_count": 13,
   "id": "55904f58",
   "metadata": {},
   "outputs": [
    {
     "name": "stdout",
     "output_type": "stream",
     "text": [
      "convert set to list: [5, 70, 40, 10, 50, 20, 84, 60, 30]\n"
     ]
    }
   ],
   "source": [
    "sets={10,50,20,60,30,70,40,5,84}\n",
    "def set_to_list(s):\n",
    "    \"This will gives all element of set\"\n",
    "    print(\"convert set to list:\",list(set(s)))\n",
    "            \n",
    "set_to_list(sets)"
   ]
  },
  {
   "cell_type": "markdown",
   "id": "e8a8de62",
   "metadata": {},
   "source": [
    "# 10)Intersection"
   ]
  },
  {
   "cell_type": "code",
   "execution_count": 14,
   "id": "cb235883",
   "metadata": {},
   "outputs": [
    {
     "name": "stdout",
     "output_type": "stream",
     "text": [
      "set: {1, 3, 14, 7}\n"
     ]
    }
   ],
   "source": [
    "set1={2,4,8,1,3,7,10,13,14,16}\n",
    "set2={1,3,7,9,11,14}\n",
    "def intersectionn(s1,s2):\n",
    "    \"This method gives common element\"\n",
    "    s3=s1.intersection(s2)\n",
    "    print(\"set:\",s3)\n",
    "    \n",
    "intersectionn(set1,set2)"
   ]
  },
  {
   "cell_type": "markdown",
   "id": "78ef6e96",
   "metadata": {},
   "source": [
    "# 11)Union"
   ]
  },
  {
   "cell_type": "code",
   "execution_count": 15,
   "id": "48ae001f",
   "metadata": {},
   "outputs": [
    {
     "name": "stdout",
     "output_type": "stream",
     "text": [
      "set: {1, 2, 3, 4, 7, 8, 9, 10, 11, 13, 14, 16}\n"
     ]
    }
   ],
   "source": [
    "set1={2,4,8,1,3,7,10,13,14,16}\n",
    "set2={1,3,7,9,11,14}\n",
    "def unionn(s1,s2):\n",
    "    \"This method will gives all elements of sets\"\n",
    "    s3=s1.union(s2)\n",
    "    print(\"set:\",s3)\n",
    "    \n",
    "unionn(set1,set2)"
   ]
  },
  {
   "cell_type": "markdown",
   "id": "92e2c815",
   "metadata": {},
   "source": [
    "# 12)Difference"
   ]
  },
  {
   "cell_type": "code",
   "execution_count": 16,
   "id": "8cbd6987",
   "metadata": {},
   "outputs": [
    {
     "name": "stdout",
     "output_type": "stream",
     "text": [
      "set: {2, 4, 8, 10, 13, 16}\n"
     ]
    }
   ],
   "source": [
    "set1={2,4,8,1,3,7,10,13,14,16}\n",
    "set2={1,3,7,9,11,14}\n",
    "def differencee(s1,s2):\n",
    "    s3=s1.difference(s2)\n",
    "    print(\"set:\",s3)\n",
    "    \n",
    "differencee(set1,set2)"
   ]
  },
  {
   "cell_type": "markdown",
   "id": "0087370f",
   "metadata": {},
   "source": [
    "# 13)Symmetric_difference"
   ]
  },
  {
   "cell_type": "code",
   "execution_count": 17,
   "id": "6421eff2",
   "metadata": {},
   "outputs": [
    {
     "name": "stdout",
     "output_type": "stream",
     "text": [
      "set: {2, 4, 8, 9, 10, 11, 13, 16}\n"
     ]
    }
   ],
   "source": [
    "set1={2,4,8,1,3,7,10,13,14,16}\n",
    "set2={1,3,7,9,11,14}\n",
    "def Symmetric_differencee(s1,s2):\n",
    "    s3=s1.symmetric_difference(s2)\n",
    "    print(\"set:\",s3)\n",
    "    \n",
    "Symmetric_differencee(set1,set2)"
   ]
  },
  {
   "cell_type": "markdown",
   "id": "d3ed8faf",
   "metadata": {},
   "source": [
    "# 14)intersection_update"
   ]
  },
  {
   "cell_type": "code",
   "execution_count": 18,
   "id": "13116df4",
   "metadata": {},
   "outputs": [
    {
     "name": "stdout",
     "output_type": "stream",
     "text": [
      "set: None\n"
     ]
    }
   ],
   "source": [
    "set1={2,4,8,1,3,7,10,13,14,16}\n",
    "set2={1,3,7,9,11,14}\n",
    "def intersection_updatee(s1,s2):\n",
    "    s3=s1.intersection_update(s2)\n",
    "    print(\"set:\",s3)\n",
    "    \n",
    "intersection_updatee(set1,set2)"
   ]
  },
  {
   "cell_type": "code",
   "execution_count": null,
   "id": "be0c04d7",
   "metadata": {},
   "outputs": [],
   "source": []
  }
 ],
 "metadata": {
  "kernelspec": {
   "display_name": "Python 3 (ipykernel)",
   "language": "python",
   "name": "python3"
  },
  "language_info": {
   "codemirror_mode": {
    "name": "ipython",
    "version": 3
   },
   "file_extension": ".py",
   "mimetype": "text/x-python",
   "name": "python",
   "nbconvert_exporter": "python",
   "pygments_lexer": "ipython3",
   "version": "3.9.12"
  }
 },
 "nbformat": 4,
 "nbformat_minor": 5
}
