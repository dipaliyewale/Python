{
 "cells": [
  {
   "cell_type": "code",
   "execution_count": 1,
   "id": "4c69aece",
   "metadata": {},
   "outputs": [],
   "source": [
    "# function without parameter \n",
    "# function with parameter\n",
    "# function with default parameter\n",
    "# function with retun parameter"
   ]
  },
  {
   "cell_type": "markdown",
   "id": "825a4423",
   "metadata": {},
   "source": [
    " 1)function without parameter \n",
    "    "
   ]
  },
  {
   "cell_type": "code",
   "execution_count": 2,
   "id": "b2aafa5f",
   "metadata": {},
   "outputs": [],
   "source": [
    " def xyz():\n",
    "    print(\"this is a function without parameter\")"
   ]
  },
  {
   "cell_type": "code",
   "execution_count": 3,
   "id": "1ba11f78",
   "metadata": {},
   "outputs": [
    {
     "name": "stdout",
     "output_type": "stream",
     "text": [
      "this is a function without parameter\n"
     ]
    }
   ],
   "source": [
    "xyz()"
   ]
  },
  {
   "cell_type": "markdown",
   "id": "3dd602ba",
   "metadata": {},
   "source": [
    "2)function with parameter"
   ]
  },
  {
   "cell_type": "code",
   "execution_count": 4,
   "id": "a0524a59",
   "metadata": {},
   "outputs": [],
   "source": [
    "def sub(a,b):\n",
    "    \"This function will return subtraction of a and b\"\n",
    "    c=a-b\n",
    "    print(c)"
   ]
  },
  {
   "cell_type": "code",
   "execution_count": 5,
   "id": "b9ec030b",
   "metadata": {},
   "outputs": [
    {
     "name": "stdout",
     "output_type": "stream",
     "text": [
      "11\n"
     ]
    }
   ],
   "source": [
    "sub(16,5)"
   ]
  },
  {
   "cell_type": "code",
   "execution_count": 6,
   "id": "8f406466",
   "metadata": {},
   "outputs": [],
   "source": [
    "def multiply(a,b):\n",
    "    \"This function will return multiplication of a and b\"\n",
    "    c=a*b\n",
    "    print(c)"
   ]
  },
  {
   "cell_type": "code",
   "execution_count": 7,
   "id": "e1ab6b72",
   "metadata": {},
   "outputs": [
    {
     "name": "stdout",
     "output_type": "stream",
     "text": [
      "445\n"
     ]
    }
   ],
   "source": [
    "multiply(5,89)"
   ]
  },
  {
   "cell_type": "code",
   "execution_count": 8,
   "id": "903458bc",
   "metadata": {},
   "outputs": [],
   "source": [
    "def divide(d,h):\n",
    "    \"This function will return Division of d and h\"\n",
    "    c=d/h\n",
    "    print(c)"
   ]
  },
  {
   "cell_type": "code",
   "execution_count": 9,
   "id": "4ffa36bb",
   "metadata": {},
   "outputs": [
    {
     "name": "stdout",
     "output_type": "stream",
     "text": [
      "19.0\n"
     ]
    }
   ],
   "source": [
    "divide(57,3)"
   ]
  },
  {
   "cell_type": "code",
   "execution_count": 10,
   "id": "d98fed59",
   "metadata": {},
   "outputs": [],
   "source": [
    "def fun(a,b,c,d):\n",
    "    e=(a+b)-(c*d)\n",
    "    print(e)"
   ]
  },
  {
   "cell_type": "code",
   "execution_count": 11,
   "id": "69a5fcdd",
   "metadata": {},
   "outputs": [
    {
     "name": "stdout",
     "output_type": "stream",
     "text": [
      "67\n"
     ]
    }
   ],
   "source": [
    "fun(54,23,5,2)"
   ]
  },
  {
   "cell_type": "markdown",
   "id": "e5da9a79",
   "metadata": {},
   "source": [
    "3)function with default parameter"
   ]
  },
  {
   "cell_type": "code",
   "execution_count": 12,
   "id": "73818f58",
   "metadata": {},
   "outputs": [],
   "source": [
    "def add(a=56,b=54):\n",
    "    \"This function will return addition of a and b\"\n",
    "    c=a+b\n",
    "    print(c)"
   ]
  },
  {
   "cell_type": "code",
   "execution_count": 13,
   "id": "a36cc1cd",
   "metadata": {},
   "outputs": [
    {
     "name": "stdout",
     "output_type": "stream",
     "text": [
      "110\n"
     ]
    }
   ],
   "source": [
    "add()"
   ]
  },
  {
   "cell_type": "code",
   "execution_count": 14,
   "id": "a2ac1b8c",
   "metadata": {},
   "outputs": [
    {
     "name": "stdout",
     "output_type": "stream",
     "text": [
      "420\n"
     ]
    }
   ],
   "source": [
    "add(196,224)"
   ]
  },
  {
   "cell_type": "markdown",
   "id": "3c47454d",
   "metadata": {},
   "source": [
    "4) function with return parameter"
   ]
  },
  {
   "cell_type": "code",
   "execution_count": 15,
   "id": "240539d6",
   "metadata": {},
   "outputs": [],
   "source": [
    "def add (a,b):\n",
    "    \"This function will return addition of a and b\"\n",
    "    c=a+b\n",
    "    return c"
   ]
  },
  {
   "cell_type": "code",
   "execution_count": 16,
   "id": "549942f7",
   "metadata": {},
   "outputs": [
    {
     "data": {
      "text/plain": [
       "198"
      ]
     },
     "execution_count": 16,
     "metadata": {},
     "output_type": "execute_result"
    }
   ],
   "source": [
    "add(75,123)"
   ]
  },
  {
   "cell_type": "code",
   "execution_count": 17,
   "id": "1f9c3b4c",
   "metadata": {},
   "outputs": [],
   "source": [
    "def sub(a,b):\n",
    "    \"This function will return subtraction of a and b\"\n",
    "    c=a-b\n",
    "    return c"
   ]
  },
  {
   "cell_type": "code",
   "execution_count": 18,
   "id": "1a9e67ac",
   "metadata": {},
   "outputs": [
    {
     "data": {
      "text/plain": [
       "77"
      ]
     },
     "execution_count": 18,
     "metadata": {},
     "output_type": "execute_result"
    }
   ],
   "source": [
    "sub(89,12)"
   ]
  },
  {
   "cell_type": "code",
   "execution_count": 19,
   "id": "621f077f",
   "metadata": {},
   "outputs": [
    {
     "data": {
      "text/plain": [
       "20.0"
      ]
     },
     "execution_count": 19,
     "metadata": {},
     "output_type": "execute_result"
    }
   ],
   "source": [
    "def divide(c,d):\n",
    "    \"This function return Division of c and d\"\n",
    "    e=c/d\n",
    "    return e\n",
    "divide(80,4)"
   ]
  },
  {
   "cell_type": "code",
   "execution_count": 20,
   "id": "5d58b620",
   "metadata": {},
   "outputs": [
    {
     "data": {
      "text/plain": [
       "540"
      ]
     },
     "execution_count": 20,
     "metadata": {},
     "output_type": "execute_result"
    }
   ],
   "source": [
    "def multiply(y,u):\n",
    "    \"This function will return multiplication y and u\"\n",
    "    r=y*u\n",
    "    return r\n",
    "multiply(45,12)"
   ]
  },
  {
   "cell_type": "code",
   "execution_count": 21,
   "id": "c319cb2b",
   "metadata": {},
   "outputs": [],
   "source": [
    "def bbbb(a:int,b:int):\n",
    "    \"\"\" this function will return sum of a and b\"\"\"\n",
    "    c=a+b\n",
    "    return c\n"
   ]
  },
  {
   "cell_type": "code",
   "execution_count": 22,
   "id": "02e04a8c",
   "metadata": {},
   "outputs": [
    {
     "data": {
      "text/plain": [
       "57"
      ]
     },
     "execution_count": 22,
     "metadata": {},
     "output_type": "execute_result"
    }
   ],
   "source": [
    "bbbb(45,12)"
   ]
  },
  {
   "cell_type": "code",
   "execution_count": 23,
   "id": "9f2747cb",
   "metadata": {},
   "outputs": [
    {
     "data": {
      "text/plain": [
       "(15, 12, 16)"
      ]
     },
     "execution_count": 23,
     "metadata": {},
     "output_type": "execute_result"
    }
   ],
   "source": [
    "def abc(a,b,c):\n",
    "    return a,b,c\n",
    "abc(15,12,16)"
   ]
  },
  {
   "cell_type": "code",
   "execution_count": 24,
   "id": "50b3c649",
   "metadata": {},
   "outputs": [
    {
     "data": {
      "text/plain": [
       "(78, 45, 12)"
      ]
     },
     "execution_count": 24,
     "metadata": {},
     "output_type": "execute_result"
    }
   ],
   "source": [
    "\n",
    "def hjk(d,e,f):\n",
    "    return (d,e,f)\n",
    "hjk(78,45,12)"
   ]
  },
  {
   "cell_type": "raw",
   "id": "646d0b6b",
   "metadata": {},
   "source": [
    "Arguments= (*args)to add single multiple values\n",
    "keyword arguments(**kwargs)=add dictionary type values\n"
   ]
  },
  {
   "cell_type": "markdown",
   "id": "0686c396",
   "metadata": {},
   "source": [
    "Arguments= (*args)to add single multiple values"
   ]
  },
  {
   "cell_type": "code",
   "execution_count": 25,
   "id": "4f987ec0",
   "metadata": {},
   "outputs": [
    {
     "data": {
      "text/plain": [
       "(45, 23, 12, 59)"
      ]
     },
     "execution_count": 25,
     "metadata": {},
     "output_type": "execute_result"
    }
   ],
   "source": [
    "def add(*args):\n",
    "    return(args)\n",
    "add(45,23,12,59)"
   ]
  },
  {
   "cell_type": "code",
   "execution_count": 26,
   "id": "02351c08",
   "metadata": {},
   "outputs": [
    {
     "data": {
      "text/plain": [
       "(42, 75, 89, 23)"
      ]
     },
     "execution_count": 26,
     "metadata": {},
     "output_type": "execute_result"
    }
   ],
   "source": [
    "def add(*args):\n",
    "    return(args)\n",
    "add(42,75,89,23)"
   ]
  },
  {
   "cell_type": "code",
   "execution_count": 27,
   "id": "507086ce",
   "metadata": {},
   "outputs": [
    {
     "data": {
      "text/plain": [
       "(72, 15, 63, 24, (59, 20, 31))"
      ]
     },
     "execution_count": 27,
     "metadata": {},
     "output_type": "execute_result"
    }
   ],
   "source": [
    "def add(a,b,c,d,*args):\n",
    "    return a,b,c,d,args\n",
    "add(72,15,63,24,59,20,31)"
   ]
  },
  {
   "cell_type": "markdown",
   "id": "c9cfd861",
   "metadata": {},
   "source": [
    "keyword arguments(**kwargs)=add dictionary type values\n"
   ]
  },
  {
   "cell_type": "code",
   "execution_count": 28,
   "id": "15a53db8",
   "metadata": {},
   "outputs": [
    {
     "data": {
      "text/plain": [
       "{'name': 'dipali',\n",
       " 'age': 24,\n",
       " 'education': 'BE civil',\n",
       " 'Course': 'data science'}"
      ]
     },
     "execution_count": 28,
     "metadata": {},
     "output_type": "execute_result"
    }
   ],
   "source": [
    "def test(**kwargs):\n",
    "    return kwargs\n",
    "test(name=\"dipali\",age=24,education=\"BE civil\",Course=\"data science\")"
   ]
  },
  {
   "cell_type": "code",
   "execution_count": 29,
   "id": "8bf5005c",
   "metadata": {},
   "outputs": [
    {
     "data": {
      "text/plain": [
       "((45, 23, 12, 76),\n",
       " {'name': 'dipali',\n",
       "  'age': 24,\n",
       "  'education': 'BE civil',\n",
       "  'Course': 'data science'})"
      ]
     },
     "execution_count": 29,
     "metadata": {},
     "output_type": "execute_result"
    }
   ],
   "source": [
    "def test(*args,**kwargs):\n",
    "    return  args,kwargs\n",
    "test(45,23,12,76,name=\"dipali\",age=24,education=\"BE civil\",Course=\"data science\")"
   ]
  },
  {
   "cell_type": "code",
   "execution_count": 30,
   "id": "6e7712d1",
   "metadata": {},
   "outputs": [
    {
     "name": "stdout",
     "output_type": "stream",
     "text": [
      "(1, 3, 9)\n"
     ]
    }
   ],
   "source": [
    "age=[]\n",
    "def add_age(*a):\n",
    "    print(a)\n",
    "add_age(1,3,9)"
   ]
  },
  {
   "cell_type": "code",
   "execution_count": 31,
   "id": "4a268850",
   "metadata": {},
   "outputs": [],
   "source": [
    "age=[]\n",
    "def add_age(*args):\n",
    "    for i in args:\n",
    "        age.append(i)\n",
    "add_age(11,22,33)"
   ]
  },
  {
   "cell_type": "code",
   "execution_count": 32,
   "id": "5ac55b98",
   "metadata": {},
   "outputs": [
    {
     "data": {
      "text/plain": [
       "[11, 22, 33]"
      ]
     },
     "execution_count": 32,
     "metadata": {},
     "output_type": "execute_result"
    }
   ],
   "source": [
    "age"
   ]
  },
  {
   "cell_type": "code",
   "execution_count": 33,
   "id": "bb7d7088",
   "metadata": {},
   "outputs": [],
   "source": [
    "def abc(a):\n",
    "    if a<0:\n",
    "         print(\"a is negative\")\n",
    "    else:\n",
    "        print(\"a is positive\")"
   ]
  },
  {
   "cell_type": "code",
   "execution_count": 34,
   "id": "fcc7d496",
   "metadata": {},
   "outputs": [
    {
     "name": "stdout",
     "output_type": "stream",
     "text": [
      "a is positive\n"
     ]
    }
   ],
   "source": [
    "abc(23)"
   ]
  },
  {
   "cell_type": "code",
   "execution_count": 35,
   "id": "39bbb379",
   "metadata": {},
   "outputs": [
    {
     "name": "stdout",
     "output_type": "stream",
     "text": [
      "True\n"
     ]
    }
   ],
   "source": [
    "S=\"dipali\"\n",
    "print(S.islower())"
   ]
  },
  {
   "cell_type": "code",
   "execution_count": 36,
   "id": "e5d587ec",
   "metadata": {},
   "outputs": [
    {
     "name": "stdout",
     "output_type": "stream",
     "text": [
      "True\n"
     ]
    }
   ],
   "source": [
    "s1=\"tyuikl\"\n",
    "def chek_lower(name):\n",
    "    print(name.islower())\n",
    "chek_lower(s1)"
   ]
  },
  {
   "cell_type": "code",
   "execution_count": 37,
   "id": "37a65a67",
   "metadata": {},
   "outputs": [],
   "source": [
    "s1=[5,6,4,45,8,3]\n"
   ]
  },
  {
   "cell_type": "code",
   "execution_count": 38,
   "id": "e1389113",
   "metadata": {},
   "outputs": [],
   "source": [
    "def sorted_re(lit):\n",
    "    lit.sort()\n",
    "    print(lit)\n",
    "    "
   ]
  },
  {
   "cell_type": "code",
   "execution_count": 39,
   "id": "7c596fe8",
   "metadata": {},
   "outputs": [
    {
     "name": "stdout",
     "output_type": "stream",
     "text": [
      "[3, 4, 5, 6, 8, 45]\n"
     ]
    }
   ],
   "source": [
    "sorted_re([5,6,4,45,8,3])"
   ]
  },
  {
   "cell_type": "markdown",
   "id": "cdef55e5",
   "metadata": {},
   "source": [
    "# Local and global variable"
   ]
  },
  {
   "cell_type": "markdown",
   "id": "c4fd71ed",
   "metadata": {},
   "source": [
    "Global Variable\n"
   ]
  },
  {
   "cell_type": "code",
   "execution_count": 40,
   "id": "dc0e06bd",
   "metadata": {},
   "outputs": [],
   "source": [
    "a=56\n",
    "def test():\n",
    "    print(\"value of a:\",a)"
   ]
  },
  {
   "cell_type": "code",
   "execution_count": 41,
   "id": "95b3db8e",
   "metadata": {},
   "outputs": [
    {
     "name": "stdout",
     "output_type": "stream",
     "text": [
      "value of a: 56\n"
     ]
    }
   ],
   "source": [
    "test()"
   ]
  },
  {
   "cell_type": "code",
   "execution_count": 42,
   "id": "57b77a78",
   "metadata": {},
   "outputs": [
    {
     "name": "stdout",
     "output_type": "stream",
     "text": [
      "value of a: 56\n"
     ]
    }
   ],
   "source": [
    " print(\"value of a:\",a)"
   ]
  },
  {
   "cell_type": "markdown",
   "id": "d6f69b83",
   "metadata": {},
   "source": [
    "LOcal variable"
   ]
  },
  {
   "cell_type": "code",
   "execution_count": 43,
   "id": "2dc52faf",
   "metadata": {},
   "outputs": [],
   "source": [
    "def test1():\n",
    "    b=98\n",
    "    print(\"value of b:\",b)"
   ]
  },
  {
   "cell_type": "code",
   "execution_count": 44,
   "id": "9728c224",
   "metadata": {},
   "outputs": [
    {
     "name": "stdout",
     "output_type": "stream",
     "text": [
      "value of b: 98\n"
     ]
    }
   ],
   "source": [
    "test1()"
   ]
  },
  {
   "cell_type": "code",
   "execution_count": 46,
   "id": "6cf0dd41",
   "metadata": {},
   "outputs": [],
   "source": [
    "#print table 6"
   ]
  },
  {
   "cell_type": "code",
   "execution_count": 47,
   "id": "20fd01fb",
   "metadata": {},
   "outputs": [
    {
     "name": "stdout",
     "output_type": "stream",
     "text": [
      "6\n",
      "12\n",
      "18\n",
      "24\n",
      "30\n",
      "36\n",
      "42\n",
      "48\n",
      "54\n",
      "60\n"
     ]
    }
   ],
   "source": [
    "a=6\n",
    "for i in range(1,11):\n",
    "     print(i*a)"
   ]
  },
  {
   "cell_type": "markdown",
   "id": "f01bec8b",
   "metadata": {},
   "source": [
    "define use for table"
   ]
  },
  {
   "cell_type": "code",
   "execution_count": 48,
   "id": "682c91b4",
   "metadata": {},
   "outputs": [],
   "source": [
    "def multiply(table):\n",
    "    for i in range(1,11):\n",
    "        print(table*i)"
   ]
  },
  {
   "cell_type": "code",
   "execution_count": 49,
   "id": "945d2bb1",
   "metadata": {},
   "outputs": [
    {
     "name": "stdout",
     "output_type": "stream",
     "text": [
      "34\n",
      "68\n",
      "102\n",
      "136\n",
      "170\n",
      "204\n",
      "238\n",
      "272\n",
      "306\n",
      "340\n"
     ]
    }
   ],
   "source": [
    "multiply(34)"
   ]
  },
  {
   "cell_type": "code",
   "execution_count": 50,
   "id": "dad34c71",
   "metadata": {},
   "outputs": [],
   "source": [
    "def multiply1(tables):\n",
    "    for i in range(1,11):\n",
    "        print(i*tables)"
   ]
  },
  {
   "cell_type": "code",
   "execution_count": 51,
   "id": "c0792d84",
   "metadata": {},
   "outputs": [
    {
     "name": "stdout",
     "output_type": "stream",
     "text": [
      "23\n",
      "46\n",
      "69\n",
      "92\n",
      "115\n",
      "138\n",
      "161\n",
      "184\n",
      "207\n",
      "230\n"
     ]
    }
   ],
   "source": [
    "multiply1(23)"
   ]
  },
  {
   "cell_type": "code",
   "execution_count": 53,
   "id": "0531cbdb",
   "metadata": {},
   "outputs": [],
   "source": [
    "def factorial(fact):\n",
    "    a=1\n",
    "    for i in range(1,fact+1):\n",
    "         a=a*i\n",
    "    print(a)"
   ]
  },
  {
   "cell_type": "code",
   "execution_count": 54,
   "id": "76ac2486",
   "metadata": {},
   "outputs": [
    {
     "name": "stdout",
     "output_type": "stream",
     "text": [
      "362880\n"
     ]
    }
   ],
   "source": [
    "factorial(9)"
   ]
  },
  {
   "cell_type": "code",
   "execution_count": 55,
   "id": "099b5c6b",
   "metadata": {},
   "outputs": [],
   "source": [
    "def facts(fac):\n",
    "    a=1\n",
    "    for i in range(1,fac+1):\n",
    "        a=a*i\n",
    "    print(a)"
   ]
  },
  {
   "cell_type": "code",
   "execution_count": 56,
   "id": "06ecc6cb",
   "metadata": {},
   "outputs": [
    {
     "name": "stdout",
     "output_type": "stream",
     "text": [
      "479001600\n"
     ]
    }
   ],
   "source": [
    "facts(12)"
   ]
  },
  {
   "cell_type": "code",
   "execution_count": 58,
   "id": "321783f4",
   "metadata": {},
   "outputs": [],
   "source": [
    "def factorial1():\n",
    "    facts=int(input(\"enter your value\"))\n",
    "    a=1\n",
    "    for i in range(1,facts+1):\n",
    "         a=a*i\n",
    "    print(a)"
   ]
  },
  {
   "cell_type": "code",
   "execution_count": 59,
   "id": "2b594b70",
   "metadata": {},
   "outputs": [
    {
     "name": "stdout",
     "output_type": "stream",
     "text": [
      "enter your value16\n",
      "20922789888000\n"
     ]
    }
   ],
   "source": [
    "factorial1()"
   ]
  },
  {
   "cell_type": "markdown",
   "id": "c0ba821d",
   "metadata": {},
   "source": [
    "# Lambda"
   ]
  },
  {
   "cell_type": "code",
   "execution_count": 60,
   "id": "e8aaff9c",
   "metadata": {},
   "outputs": [],
   "source": [
    "ace=lambda a:a+2"
   ]
  },
  {
   "cell_type": "code",
   "execution_count": 61,
   "id": "02095884",
   "metadata": {},
   "outputs": [
    {
     "data": {
      "text/plain": [
       "11"
      ]
     },
     "execution_count": 61,
     "metadata": {},
     "output_type": "execute_result"
    }
   ],
   "source": [
    "ace(9)"
   ]
  },
  {
   "cell_type": "code",
   "execution_count": 62,
   "id": "f1d9e3a2",
   "metadata": {},
   "outputs": [
    {
     "data": {
      "text/plain": [
       "78"
      ]
     },
     "execution_count": 62,
     "metadata": {},
     "output_type": "execute_result"
    }
   ],
   "source": [
    "wer=lambda  a,b,c:(a+b)*c\n",
    "wer(5,8,6)"
   ]
  },
  {
   "cell_type": "code",
   "execution_count": 63,
   "id": "4046b30a",
   "metadata": {},
   "outputs": [
    {
     "data": {
      "text/plain": [
       "'Dipali'"
      ]
     },
     "execution_count": 63,
     "metadata": {},
     "output_type": "execute_result"
    }
   ],
   "source": [
    "d=\"   Dipali              \"\n",
    "test=lambda  name:name.strip()\n",
    "test(d)"
   ]
  },
  {
   "cell_type": "code",
   "execution_count": 64,
   "id": "dca280e7",
   "metadata": {},
   "outputs": [
    {
     "data": {
      "text/plain": [
       "'dtSFYweQR'"
      ]
     },
     "execution_count": 64,
     "metadata": {},
     "output_type": "execute_result"
    }
   ],
   "source": [
    "S=\"DTsfyWEqr\"\n",
    "testi=lambda name1:name1.swapcase()\n",
    "testi(S)"
   ]
  },
  {
   "cell_type": "markdown",
   "id": "73113ebe",
   "metadata": {},
   "source": [
    "# list comprehension"
   ]
  },
  {
   "cell_type": "code",
   "execution_count": 65,
   "id": "665c33ad",
   "metadata": {},
   "outputs": [
    {
     "name": "stdout",
     "output_type": "stream",
     "text": [
      "8\n",
      "9\n",
      "4\n",
      "3\n"
     ]
    }
   ],
   "source": [
    "k=[8,9,4,3]\n",
    "for i in k:\n",
    "    print(i)"
   ]
  },
  {
   "cell_type": "code",
   "execution_count": 66,
   "id": "89c51511",
   "metadata": {},
   "outputs": [],
   "source": [
    "S=\"python difficult\""
   ]
  },
  {
   "cell_type": "code",
   "execution_count": 67,
   "id": "b35f98f2",
   "metadata": {},
   "outputs": [],
   "source": [
    "l=[]\n",
    "for i in S:\n",
    "    l.append(i)"
   ]
  },
  {
   "cell_type": "code",
   "execution_count": 68,
   "id": "ab7b1993",
   "metadata": {},
   "outputs": [
    {
     "data": {
      "text/plain": [
       "['p',\n",
       " 'y',\n",
       " 't',\n",
       " 'h',\n",
       " 'o',\n",
       " 'n',\n",
       " ' ',\n",
       " 'd',\n",
       " 'i',\n",
       " 'f',\n",
       " 'f',\n",
       " 'i',\n",
       " 'c',\n",
       " 'u',\n",
       " 'l',\n",
       " 't']"
      ]
     },
     "execution_count": 68,
     "metadata": {},
     "output_type": "execute_result"
    }
   ],
   "source": [
    "l"
   ]
  },
  {
   "cell_type": "code",
   "execution_count": 69,
   "id": "ed89e7e9",
   "metadata": {},
   "outputs": [
    {
     "data": {
      "text/plain": [
       "['p',\n",
       " 'y',\n",
       " 't',\n",
       " 'h',\n",
       " 'o',\n",
       " 'n',\n",
       " ' ',\n",
       " 'd',\n",
       " 'i',\n",
       " 'f',\n",
       " 'f',\n",
       " 'i',\n",
       " 'c',\n",
       " 'u',\n",
       " 'l',\n",
       " 't']"
      ]
     },
     "execution_count": 69,
     "metadata": {},
     "output_type": "execute_result"
    }
   ],
   "source": [
    "[i for i in S]"
   ]
  },
  {
   "cell_type": "code",
   "execution_count": 70,
   "id": "7af13ef8",
   "metadata": {},
   "outputs": [],
   "source": [
    "table=[]\n",
    "for i in range(1,11):\n",
    "     a=2\n",
    "#     print(a*i)\n",
    "table.append(i*a)"
   ]
  },
  {
   "cell_type": "code",
   "execution_count": 71,
   "id": "d74bb0e6",
   "metadata": {},
   "outputs": [
    {
     "data": {
      "text/plain": [
       "[20]"
      ]
     },
     "execution_count": 71,
     "metadata": {},
     "output_type": "execute_result"
    }
   ],
   "source": [
    "table"
   ]
  },
  {
   "cell_type": "code",
   "execution_count": null,
   "id": "80389234",
   "metadata": {},
   "outputs": [],
   "source": []
  }
 ],
 "metadata": {
  "kernelspec": {
   "display_name": "Python 3 (ipykernel)",
   "language": "python",
   "name": "python3"
  },
  "language_info": {
   "codemirror_mode": {
    "name": "ipython",
    "version": 3
   },
   "file_extension": ".py",
   "mimetype": "text/x-python",
   "name": "python",
   "nbconvert_exporter": "python",
   "pygments_lexer": "ipython3",
   "version": "3.9.12"
  }
 },
 "nbformat": 4,
 "nbformat_minor": 5
}
