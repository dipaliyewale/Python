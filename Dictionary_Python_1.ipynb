{
 "cells": [
  {
   "cell_type": "code",
   "execution_count": 1,
   "id": "0d0523fd",
   "metadata": {},
   "outputs": [],
   "source": [
    "Dict={\"key\":\"value\",\"name\":\"Dipali\",\"course\":\"Datascience\",\"Age\":24,\"number\":11111}"
   ]
  },
  {
   "cell_type": "code",
   "execution_count": 2,
   "id": "049ec307",
   "metadata": {},
   "outputs": [
    {
     "name": "stdout",
     "output_type": "stream",
     "text": [
      "print: {'key': 'value', 'name': 'Dipali', 'course': 'Datascience', 'Age': 24, 'number': 11111}\n"
     ]
    }
   ],
   "source": [
    "def variable(D):\n",
    "    print(\"print:\",D)\n",
    "    \n",
    "variable(Dict)"
   ]
  },
  {
   "cell_type": "markdown",
   "id": "a1955764",
   "metadata": {},
   "source": [
    "# Type"
   ]
  },
  {
   "cell_type": "code",
   "execution_count": 3,
   "id": "5490b673",
   "metadata": {},
   "outputs": [
    {
     "name": "stdout",
     "output_type": "stream",
     "text": [
      "type: <class 'dict'>\n"
     ]
    }
   ],
   "source": [
    "def typee(D):\n",
    "    print(\"type:\",type(D))\n",
    "    \n",
    "typee(Dict)"
   ]
  },
  {
   "cell_type": "markdown",
   "id": "9df3b7b7",
   "metadata": {},
   "source": [
    "# Values"
   ]
  },
  {
   "cell_type": "code",
   "execution_count": 4,
   "id": "07b83a7e",
   "metadata": {},
   "outputs": [
    {
     "name": "stdout",
     "output_type": "stream",
     "text": [
      "values: Dipali\n"
     ]
    }
   ],
   "source": [
    "def values(D):\n",
    "    print(\"values:\",D[\"name\"])\n",
    "    \n",
    "values(Dict)"
   ]
  },
  {
   "cell_type": "markdown",
   "id": "071abfaa",
   "metadata": {},
   "source": [
    "#In dictionary we cannot use index properties"
   ]
  },
  {
   "cell_type": "code",
   "execution_count": 5,
   "id": "905fec11",
   "metadata": {},
   "outputs": [
    {
     "name": "stdout",
     "output_type": "stream",
     "text": [
      "change items: {'key': 'value', 'name': 'Supriya', 'course': 'Datascience', 'Age': 24, 'number': 11111}\n"
     ]
    }
   ],
   "source": [
    "def change(D):\n",
    "    D[\"name\"]=\"Supriya\"\n",
    "    print(\"change items:\",D)\n",
    "    \n",
    "change(Dict)"
   ]
  },
  {
   "cell_type": "code",
   "execution_count": 6,
   "id": "7e32aac1",
   "metadata": {},
   "outputs": [],
   "source": [
    "Dict[\"name\"]=\"Supriya\""
   ]
  },
  {
   "cell_type": "code",
   "execution_count": 7,
   "id": "fbf58230",
   "metadata": {},
   "outputs": [
    {
     "data": {
      "text/plain": [
       "{'key': 'value',\n",
       " 'name': 'Supriya',\n",
       " 'course': 'Datascience',\n",
       " 'Age': 24,\n",
       " 'number': 11111}"
      ]
     },
     "execution_count": 7,
     "metadata": {},
     "output_type": "execute_result"
    }
   ],
   "source": [
    "Dict"
   ]
  },
  {
   "cell_type": "markdown",
   "id": "a167c9d8",
   "metadata": {},
   "source": [
    "# popitems"
   ]
  },
  {
   "cell_type": "code",
   "execution_count": 8,
   "id": "55eb24a5",
   "metadata": {},
   "outputs": [
    {
     "name": "stdout",
     "output_type": "stream",
     "text": [
      "remove last items: ('number', 11111)\n"
     ]
    }
   ],
   "source": [
    "def ppopitems(D):\n",
    "    C=D.popitem()\n",
    "    print(\"remove last items:\",C)\n",
    "    \n",
    "ppopitems(Dict)"
   ]
  },
  {
   "cell_type": "code",
   "execution_count": 9,
   "id": "69d6aa4b",
   "metadata": {},
   "outputs": [
    {
     "data": {
      "text/plain": [
       "{'key': 'value', 'name': 'Supriya', 'course': 'Datascience', 'Age': 24}"
      ]
     },
     "execution_count": 9,
     "metadata": {},
     "output_type": "execute_result"
    }
   ],
   "source": [
    "Dict"
   ]
  },
  {
   "cell_type": "markdown",
   "id": "866df1eb",
   "metadata": {},
   "source": [
    "# get_items"
   ]
  },
  {
   "cell_type": "code",
   "execution_count": 10,
   "id": "9e9b1036",
   "metadata": {},
   "outputs": [
    {
     "name": "stdout",
     "output_type": "stream",
     "text": [
      "getting items: dict_items([('key', 'value'), ('name', 'Supriya'), ('course', 'Datascience'), ('Age', 24)])\n"
     ]
    }
   ],
   "source": [
    "def get_items(D):\n",
    "    C=D.items()\n",
    "    print(\"getting items:\",C)\n",
    "    \n",
    "get_items(Dict)"
   ]
  },
  {
   "cell_type": "markdown",
   "id": "8fcb6b71",
   "metadata": {},
   "source": [
    "# keys"
   ]
  },
  {
   "cell_type": "code",
   "execution_count": 11,
   "id": "9659d84d",
   "metadata": {},
   "outputs": [
    {
     "name": "stdout",
     "output_type": "stream",
     "text": [
      "getting keys: dict_keys(['key', 'name', 'course', 'Age'])\n"
     ]
    }
   ],
   "source": [
    "def get_keys(D):\n",
    "    C=D.keys()\n",
    "    print(\"getting keys:\",C)\n",
    "    \n",
    "get_keys(Dict)"
   ]
  },
  {
   "cell_type": "markdown",
   "id": "b3a85e7f",
   "metadata": {},
   "source": [
    "# get"
   ]
  },
  {
   "cell_type": "code",
   "execution_count": 12,
   "id": "72e5e745",
   "metadata": {},
   "outputs": [
    {
     "name": "stdout",
     "output_type": "stream",
     "text": [
      "getting particular values : Datascience\n"
     ]
    }
   ],
   "source": [
    "def get(D):\n",
    "    C=D.get(\"course\")\n",
    "    print(\"getting particular values :\",C)\n",
    "    \n",
    "get(Dict)"
   ]
  }
 ],
 "metadata": {
  "kernelspec": {
   "display_name": "Python 3 (ipykernel)",
   "language": "python",
   "name": "python3"
  },
  "language_info": {
   "codemirror_mode": {
    "name": "ipython",
    "version": 3
   },
   "file_extension": ".py",
   "mimetype": "text/x-python",
   "name": "python",
   "nbconvert_exporter": "python",
   "pygments_lexer": "ipython3",
   "version": "3.9.12"
  }
 },
 "nbformat": 4,
 "nbformat_minor": 5
}
